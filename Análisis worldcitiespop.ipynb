{
 "cells": [
  {
   "attachments": {},
   "cell_type": "markdown",
   "metadata": {},
   "source": [
    "# Hallazgos\n",
    "\n",
    "## Lectura archivo\n",
    "\n",
    "- Encoding UTF-8 no sirve\n",
    "- Duplicados\n",
    "- Ciudades mal escritas (Andorra - aixirivali (aixirivall))\n",
    "- Hay ciudades que están en varios estados a la vez (Ej: Edinburg)\n",
    "\n",
    "## Caso\n",
    "- Identificar qué ciudades son costa este y costa oeste\n",
    "- \n"
   ]
  },
  {
   "cell_type": "code",
   "execution_count": 228,
   "metadata": {},
   "outputs": [
    {
     "name": "stderr",
     "output_type": "stream",
     "text": [
      "C:\\Users\\rodri\\AppData\\Local\\Temp\\ipykernel_4004\\950364824.py:4: DtypeWarning:\n",
      "\n",
      "Columns (3) have mixed types. Specify dtype option on import or set low_memory=False.\n",
      "\n"
     ]
    },
    {
     "data": {
      "text/html": [
       "<div>\n",
       "<style scoped>\n",
       "    .dataframe tbody tr th:only-of-type {\n",
       "        vertical-align: middle;\n",
       "    }\n",
       "\n",
       "    .dataframe tbody tr th {\n",
       "        vertical-align: top;\n",
       "    }\n",
       "\n",
       "    .dataframe thead th {\n",
       "        text-align: right;\n",
       "    }\n",
       "</style>\n",
       "<table border=\"1\" class=\"dataframe\">\n",
       "  <thead>\n",
       "    <tr style=\"text-align: right;\">\n",
       "      <th></th>\n",
       "      <th>Country</th>\n",
       "      <th>City</th>\n",
       "      <th>AccentCity</th>\n",
       "      <th>Region</th>\n",
       "      <th>Population</th>\n",
       "      <th>Latitude</th>\n",
       "      <th>Longitude</th>\n",
       "    </tr>\n",
       "  </thead>\n",
       "  <tbody>\n",
       "    <tr>\n",
       "      <th>0</th>\n",
       "      <td>ad</td>\n",
       "      <td>aixas</td>\n",
       "      <td>Aixàs</td>\n",
       "      <td>6.0</td>\n",
       "      <td>NaN</td>\n",
       "      <td>42.483333</td>\n",
       "      <td>1.466667</td>\n",
       "    </tr>\n",
       "    <tr>\n",
       "      <th>1</th>\n",
       "      <td>ad</td>\n",
       "      <td>aixirivali</td>\n",
       "      <td>Aixirivali</td>\n",
       "      <td>6.0</td>\n",
       "      <td>NaN</td>\n",
       "      <td>42.466667</td>\n",
       "      <td>1.500000</td>\n",
       "    </tr>\n",
       "    <tr>\n",
       "      <th>2</th>\n",
       "      <td>ad</td>\n",
       "      <td>aixirivall</td>\n",
       "      <td>Aixirivall</td>\n",
       "      <td>6.0</td>\n",
       "      <td>NaN</td>\n",
       "      <td>42.466667</td>\n",
       "      <td>1.500000</td>\n",
       "    </tr>\n",
       "    <tr>\n",
       "      <th>3</th>\n",
       "      <td>ad</td>\n",
       "      <td>aixirvall</td>\n",
       "      <td>Aixirvall</td>\n",
       "      <td>6.0</td>\n",
       "      <td>NaN</td>\n",
       "      <td>42.466667</td>\n",
       "      <td>1.500000</td>\n",
       "    </tr>\n",
       "    <tr>\n",
       "      <th>4</th>\n",
       "      <td>ad</td>\n",
       "      <td>aixovall</td>\n",
       "      <td>Aixovall</td>\n",
       "      <td>6.0</td>\n",
       "      <td>NaN</td>\n",
       "      <td>42.466667</td>\n",
       "      <td>1.483333</td>\n",
       "    </tr>\n",
       "    <tr>\n",
       "      <th>...</th>\n",
       "      <td>...</td>\n",
       "      <td>...</td>\n",
       "      <td>...</td>\n",
       "      <td>...</td>\n",
       "      <td>...</td>\n",
       "      <td>...</td>\n",
       "      <td>...</td>\n",
       "    </tr>\n",
       "    <tr>\n",
       "      <th>3173953</th>\n",
       "      <td>zw</td>\n",
       "      <td>zimre park</td>\n",
       "      <td>Zimre Park</td>\n",
       "      <td>4</td>\n",
       "      <td>NaN</td>\n",
       "      <td>-17.866111</td>\n",
       "      <td>31.213611</td>\n",
       "    </tr>\n",
       "    <tr>\n",
       "      <th>3173954</th>\n",
       "      <td>zw</td>\n",
       "      <td>ziyakamanas</td>\n",
       "      <td>Ziyakamanas</td>\n",
       "      <td>0</td>\n",
       "      <td>NaN</td>\n",
       "      <td>-18.216667</td>\n",
       "      <td>27.950000</td>\n",
       "    </tr>\n",
       "    <tr>\n",
       "      <th>3173955</th>\n",
       "      <td>zw</td>\n",
       "      <td>zizalisari</td>\n",
       "      <td>Zizalisari</td>\n",
       "      <td>4</td>\n",
       "      <td>NaN</td>\n",
       "      <td>-17.758889</td>\n",
       "      <td>31.010556</td>\n",
       "    </tr>\n",
       "    <tr>\n",
       "      <th>3173956</th>\n",
       "      <td>zw</td>\n",
       "      <td>zuzumba</td>\n",
       "      <td>Zuzumba</td>\n",
       "      <td>6</td>\n",
       "      <td>NaN</td>\n",
       "      <td>-20.033333</td>\n",
       "      <td>27.933333</td>\n",
       "    </tr>\n",
       "    <tr>\n",
       "      <th>3173957</th>\n",
       "      <td>zw</td>\n",
       "      <td>zvishavane</td>\n",
       "      <td>Zvishavane</td>\n",
       "      <td>7</td>\n",
       "      <td>79876.0</td>\n",
       "      <td>-20.333333</td>\n",
       "      <td>30.033333</td>\n",
       "    </tr>\n",
       "  </tbody>\n",
       "</table>\n",
       "<p>3173958 rows × 7 columns</p>\n",
       "</div>"
      ],
      "text/plain": [
       "        Country         City   AccentCity Region  Population   Latitude   \n",
       "0            ad        aixas        Aixàs    6.0         NaN  42.483333  \\\n",
       "1            ad   aixirivali   Aixirivali    6.0         NaN  42.466667   \n",
       "2            ad   aixirivall   Aixirivall    6.0         NaN  42.466667   \n",
       "3            ad    aixirvall    Aixirvall    6.0         NaN  42.466667   \n",
       "4            ad     aixovall     Aixovall    6.0         NaN  42.466667   \n",
       "...         ...          ...          ...    ...         ...        ...   \n",
       "3173953      zw   zimre park   Zimre Park      4         NaN -17.866111   \n",
       "3173954      zw  ziyakamanas  Ziyakamanas      0         NaN -18.216667   \n",
       "3173955      zw   zizalisari   Zizalisari      4         NaN -17.758889   \n",
       "3173956      zw      zuzumba      Zuzumba      6         NaN -20.033333   \n",
       "3173957      zw   zvishavane   Zvishavane      7     79876.0 -20.333333   \n",
       "\n",
       "         Longitude  \n",
       "0         1.466667  \n",
       "1         1.500000  \n",
       "2         1.500000  \n",
       "3         1.500000  \n",
       "4         1.483333  \n",
       "...            ...  \n",
       "3173953  31.213611  \n",
       "3173954  27.950000  \n",
       "3173955  31.010556  \n",
       "3173956  27.933333  \n",
       "3173957  30.033333  \n",
       "\n",
       "[3173958 rows x 7 columns]"
      ]
     },
     "execution_count": 228,
     "metadata": {},
     "output_type": "execute_result"
    }
   ],
   "source": [
    "import pandas as pd\n",
    "\n",
    "file_path = 'C:/Users/rodri/Downloads/'\n",
    "df = pd.read_csv( file_path + \"worldcitiespop.txt\", sep = \",\", encoding='latin-1')\n",
    "df"
   ]
  },
  {
   "cell_type": "code",
   "execution_count": 229,
   "metadata": {},
   "outputs": [
    {
     "name": "stdout",
     "output_type": "stream",
     "text": [
      "<class 'pandas.core.frame.DataFrame'>\n",
      "RangeIndex: 3173958 entries, 0 to 3173957\n",
      "Data columns (total 7 columns):\n",
      " #   Column      Non-Null Count    Dtype  \n",
      "---  ------      --------------    -----  \n",
      " 0   Country     3173958 non-null  object \n",
      " 1   City        3173952 non-null  object \n",
      " 2   AccentCity  3173954 non-null  object \n",
      " 3   Region      3173950 non-null  object \n",
      " 4   Population  47980 non-null    float64\n",
      " 5   Latitude    3173958 non-null  float64\n",
      " 6   Longitude   3173958 non-null  float64\n",
      "dtypes: float64(3), object(4)\n",
      "memory usage: 169.5+ MB\n"
     ]
    }
   ],
   "source": [
    "df.info(show_counts=True)\n",
    "# City, AccentCity, Population, Region tienen valores nulos"
   ]
  },
  {
   "cell_type": "code",
   "execution_count": 230,
   "metadata": {},
   "outputs": [],
   "source": [
    "#Eliminando posibles espacios en blanco en campos Country y City\n",
    "df['Country']= df.Country.apply(str.strip)\n",
    "df['City']= df.City.apply(lambda x: x if pd.isnull(x) else str.strip(x)) #Columna tiene valores nulos"
   ]
  },
  {
   "cell_type": "code",
   "execution_count": 231,
   "metadata": {},
   "outputs": [
    {
     "data": {
      "text/html": [
       "<div>\n",
       "<style scoped>\n",
       "    .dataframe tbody tr th:only-of-type {\n",
       "        vertical-align: middle;\n",
       "    }\n",
       "\n",
       "    .dataframe tbody tr th {\n",
       "        vertical-align: top;\n",
       "    }\n",
       "\n",
       "    .dataframe thead th {\n",
       "        text-align: right;\n",
       "    }\n",
       "</style>\n",
       "<table border=\"1\" class=\"dataframe\">\n",
       "  <thead>\n",
       "    <tr style=\"text-align: right;\">\n",
       "      <th></th>\n",
       "      <th>Country</th>\n",
       "      <th>City</th>\n",
       "      <th>AccentCity</th>\n",
       "      <th>Region</th>\n",
       "      <th>Population</th>\n",
       "      <th>Latitude</th>\n",
       "      <th>Longitude</th>\n",
       "    </tr>\n",
       "  </thead>\n",
       "  <tbody>\n",
       "    <tr>\n",
       "      <th>1726221</th>\n",
       "      <td>lv</td>\n",
       "      <td>edinburg</td>\n",
       "      <td>Edinburg</td>\n",
       "      <td>25</td>\n",
       "      <td>NaN</td>\n",
       "      <td>56.977500</td>\n",
       "      <td>23.826944</td>\n",
       "    </tr>\n",
       "    <tr>\n",
       "      <th>2938825</th>\n",
       "      <td>us</td>\n",
       "      <td>edinburg</td>\n",
       "      <td>Edinburg</td>\n",
       "      <td>IL</td>\n",
       "      <td>NaN</td>\n",
       "      <td>39.657222</td>\n",
       "      <td>-89.389444</td>\n",
       "    </tr>\n",
       "    <tr>\n",
       "      <th>2945237</th>\n",
       "      <td>us</td>\n",
       "      <td>edinburg</td>\n",
       "      <td>Edinburg</td>\n",
       "      <td>IA</td>\n",
       "      <td>NaN</td>\n",
       "      <td>42.133333</td>\n",
       "      <td>-91.133889</td>\n",
       "    </tr>\n",
       "    <tr>\n",
       "      <th>2973211</th>\n",
       "      <td>us</td>\n",
       "      <td>edinburg</td>\n",
       "      <td>Edinburg</td>\n",
       "      <td>MS</td>\n",
       "      <td>NaN</td>\n",
       "      <td>32.799167</td>\n",
       "      <td>-89.336111</td>\n",
       "    </tr>\n",
       "    <tr>\n",
       "      <th>2976096</th>\n",
       "      <td>us</td>\n",
       "      <td>edinburg</td>\n",
       "      <td>Edinburg</td>\n",
       "      <td>MO</td>\n",
       "      <td>NaN</td>\n",
       "      <td>40.081389</td>\n",
       "      <td>-93.693611</td>\n",
       "    </tr>\n",
       "    <tr>\n",
       "      <th>2983872</th>\n",
       "      <td>us</td>\n",
       "      <td>edinburg</td>\n",
       "      <td>Edinburg</td>\n",
       "      <td>NJ</td>\n",
       "      <td>NaN</td>\n",
       "      <td>40.258056</td>\n",
       "      <td>-74.616389</td>\n",
       "    </tr>\n",
       "    <tr>\n",
       "      <th>2988643</th>\n",
       "      <td>us</td>\n",
       "      <td>edinburg</td>\n",
       "      <td>Edinburg</td>\n",
       "      <td>NY</td>\n",
       "      <td>NaN</td>\n",
       "      <td>43.221667</td>\n",
       "      <td>-74.104444</td>\n",
       "    </tr>\n",
       "    <tr>\n",
       "      <th>2997648</th>\n",
       "      <td>us</td>\n",
       "      <td>edinburg</td>\n",
       "      <td>Edinburg</td>\n",
       "      <td>ND</td>\n",
       "      <td>NaN</td>\n",
       "      <td>48.496667</td>\n",
       "      <td>-97.861667</td>\n",
       "    </tr>\n",
       "    <tr>\n",
       "      <th>2999579</th>\n",
       "      <td>us</td>\n",
       "      <td>edinburg</td>\n",
       "      <td>Edinburg</td>\n",
       "      <td>OH</td>\n",
       "      <td>NaN</td>\n",
       "      <td>41.099722</td>\n",
       "      <td>-81.146111</td>\n",
       "    </tr>\n",
       "    <tr>\n",
       "      <th>3008561</th>\n",
       "      <td>us</td>\n",
       "      <td>edinburg</td>\n",
       "      <td>Edinburg</td>\n",
       "      <td>PA</td>\n",
       "      <td>NaN</td>\n",
       "      <td>41.014444</td>\n",
       "      <td>-80.436944</td>\n",
       "    </tr>\n",
       "    <tr>\n",
       "      <th>3027034</th>\n",
       "      <td>us</td>\n",
       "      <td>edinburg</td>\n",
       "      <td>Edinburg</td>\n",
       "      <td>TX</td>\n",
       "      <td>60509.0</td>\n",
       "      <td>26.301389</td>\n",
       "      <td>-98.163056</td>\n",
       "    </tr>\n",
       "    <tr>\n",
       "      <th>3036083</th>\n",
       "      <td>us</td>\n",
       "      <td>edinburg</td>\n",
       "      <td>Edinburg</td>\n",
       "      <td>VA</td>\n",
       "      <td>NaN</td>\n",
       "      <td>38.820833</td>\n",
       "      <td>-78.566111</td>\n",
       "    </tr>\n",
       "  </tbody>\n",
       "</table>\n",
       "</div>"
      ],
      "text/plain": [
       "        Country      City AccentCity Region  Population   Latitude  Longitude\n",
       "1726221      lv  edinburg   Edinburg     25         NaN  56.977500  23.826944\n",
       "2938825      us  edinburg   Edinburg     IL         NaN  39.657222 -89.389444\n",
       "2945237      us  edinburg   Edinburg     IA         NaN  42.133333 -91.133889\n",
       "2973211      us  edinburg   Edinburg     MS         NaN  32.799167 -89.336111\n",
       "2976096      us  edinburg   Edinburg     MO         NaN  40.081389 -93.693611\n",
       "2983872      us  edinburg   Edinburg     NJ         NaN  40.258056 -74.616389\n",
       "2988643      us  edinburg   Edinburg     NY         NaN  43.221667 -74.104444\n",
       "2997648      us  edinburg   Edinburg     ND         NaN  48.496667 -97.861667\n",
       "2999579      us  edinburg   Edinburg     OH         NaN  41.099722 -81.146111\n",
       "3008561      us  edinburg   Edinburg     PA         NaN  41.014444 -80.436944\n",
       "3027034      us  edinburg   Edinburg     TX     60509.0  26.301389 -98.163056\n",
       "3036083      us  edinburg   Edinburg     VA         NaN  38.820833 -78.566111"
      ]
     },
     "execution_count": 231,
     "metadata": {},
     "output_type": "execute_result"
    }
   ],
   "source": [
    "#Hay ciudades en distintos estados\n",
    "df[df.City == 'edinburg']"
   ]
  },
  {
   "cell_type": "code",
   "execution_count": 232,
   "metadata": {},
   "outputs": [
    {
     "name": "stdout",
     "output_type": "stream",
     "text": [
      "Número de nombres distintos de ciudades en UK: 24089\n"
     ]
    },
    {
     "data": {
      "text/html": [
       "<div>\n",
       "<style scoped>\n",
       "    .dataframe tbody tr th:only-of-type {\n",
       "        vertical-align: middle;\n",
       "    }\n",
       "\n",
       "    .dataframe tbody tr th {\n",
       "        vertical-align: top;\n",
       "    }\n",
       "\n",
       "    .dataframe thead th {\n",
       "        text-align: right;\n",
       "    }\n",
       "</style>\n",
       "<table border=\"1\" class=\"dataframe\">\n",
       "  <thead>\n",
       "    <tr style=\"text-align: right;\">\n",
       "      <th></th>\n",
       "      <th>Country</th>\n",
       "      <th>City</th>\n",
       "      <th>AccentCity</th>\n",
       "      <th>Region</th>\n",
       "      <th>Population</th>\n",
       "      <th>Latitude</th>\n",
       "      <th>Longitude</th>\n",
       "    </tr>\n",
       "  </thead>\n",
       "  <tbody>\n",
       "    <tr>\n",
       "      <th>986483</th>\n",
       "      <td>gb</td>\n",
       "      <td>abberley</td>\n",
       "      <td>Abberley</td>\n",
       "      <td>Q4</td>\n",
       "      <td>NaN</td>\n",
       "      <td>52.300000</td>\n",
       "      <td>-2.366667</td>\n",
       "    </tr>\n",
       "    <tr>\n",
       "      <th>986484</th>\n",
       "      <td>gb</td>\n",
       "      <td>abberton</td>\n",
       "      <td>Abberton</td>\n",
       "      <td>E4</td>\n",
       "      <td>NaN</td>\n",
       "      <td>51.833333</td>\n",
       "      <td>0.916667</td>\n",
       "    </tr>\n",
       "    <tr>\n",
       "      <th>986485</th>\n",
       "      <td>gb</td>\n",
       "      <td>abberton</td>\n",
       "      <td>Abberton</td>\n",
       "      <td>Q4</td>\n",
       "      <td>NaN</td>\n",
       "      <td>52.183333</td>\n",
       "      <td>-2.016667</td>\n",
       "    </tr>\n",
       "    <tr>\n",
       "      <th>986486</th>\n",
       "      <td>gb</td>\n",
       "      <td>abbess roding</td>\n",
       "      <td>Abbess Roding</td>\n",
       "      <td>E4</td>\n",
       "      <td>NaN</td>\n",
       "      <td>51.783333</td>\n",
       "      <td>0.266667</td>\n",
       "    </tr>\n",
       "    <tr>\n",
       "      <th>986487</th>\n",
       "      <td>gb</td>\n",
       "      <td>abbey-cwmhir</td>\n",
       "      <td>Abbey-Cwmhir</td>\n",
       "      <td>Y8</td>\n",
       "      <td>NaN</td>\n",
       "      <td>52.333333</td>\n",
       "      <td>-3.400000</td>\n",
       "    </tr>\n",
       "    <tr>\n",
       "      <th>...</th>\n",
       "      <td>...</td>\n",
       "      <td>...</td>\n",
       "      <td>...</td>\n",
       "      <td>...</td>\n",
       "      <td>...</td>\n",
       "      <td>...</td>\n",
       "      <td>...</td>\n",
       "    </tr>\n",
       "    <tr>\n",
       "      <th>1318046</th>\n",
       "      <td>ie</td>\n",
       "      <td>yellow furze</td>\n",
       "      <td>Yellow Furze</td>\n",
       "      <td>21.0</td>\n",
       "      <td>NaN</td>\n",
       "      <td>53.673333</td>\n",
       "      <td>-6.571667</td>\n",
       "    </tr>\n",
       "    <tr>\n",
       "      <th>1318047</th>\n",
       "      <td>ie</td>\n",
       "      <td>yellowpit cross roads</td>\n",
       "      <td>Yellowpit Cross Roads</td>\n",
       "      <td>15.0</td>\n",
       "      <td>NaN</td>\n",
       "      <td>53.046667</td>\n",
       "      <td>-7.156111</td>\n",
       "    </tr>\n",
       "    <tr>\n",
       "      <th>1318048</th>\n",
       "      <td>ie</td>\n",
       "      <td>youghal</td>\n",
       "      <td>Youghal</td>\n",
       "      <td>4.0</td>\n",
       "      <td>6868.0</td>\n",
       "      <td>51.950000</td>\n",
       "      <td>-7.850556</td>\n",
       "    </tr>\n",
       "    <tr>\n",
       "      <th>1318049</th>\n",
       "      <td>ie</td>\n",
       "      <td>youghal</td>\n",
       "      <td>Youghal</td>\n",
       "      <td>26.0</td>\n",
       "      <td>NaN</td>\n",
       "      <td>52.888611</td>\n",
       "      <td>-8.307500</td>\n",
       "    </tr>\n",
       "    <tr>\n",
       "      <th>1318050</th>\n",
       "      <td>ie</td>\n",
       "      <td>zion hill</td>\n",
       "      <td>Zion Hill</td>\n",
       "      <td>25.0</td>\n",
       "      <td>NaN</td>\n",
       "      <td>54.105833</td>\n",
       "      <td>-8.879722</td>\n",
       "    </tr>\n",
       "  </tbody>\n",
       "</table>\n",
       "<p>26888 rows × 7 columns</p>\n",
       "</div>"
      ],
      "text/plain": [
       "        Country                   City             AccentCity Region   \n",
       "986483       gb               abberley               Abberley     Q4  \\\n",
       "986484       gb               abberton               Abberton     E4   \n",
       "986485       gb               abberton               Abberton     Q4   \n",
       "986486       gb          abbess roding          Abbess Roding     E4   \n",
       "986487       gb           abbey-cwmhir           Abbey-Cwmhir     Y8   \n",
       "...         ...                    ...                    ...    ...   \n",
       "1318046      ie           yellow furze           Yellow Furze   21.0   \n",
       "1318047      ie  yellowpit cross roads  Yellowpit Cross Roads   15.0   \n",
       "1318048      ie                youghal                Youghal    4.0   \n",
       "1318049      ie                youghal                Youghal   26.0   \n",
       "1318050      ie              zion hill              Zion Hill   25.0   \n",
       "\n",
       "         Population   Latitude  Longitude  \n",
       "986483          NaN  52.300000  -2.366667  \n",
       "986484          NaN  51.833333   0.916667  \n",
       "986485          NaN  52.183333  -2.016667  \n",
       "986486          NaN  51.783333   0.266667  \n",
       "986487          NaN  52.333333  -3.400000  \n",
       "...             ...        ...        ...  \n",
       "1318046         NaN  53.673333  -6.571667  \n",
       "1318047         NaN  53.046667  -7.156111  \n",
       "1318048      6868.0  51.950000  -7.850556  \n",
       "1318049         NaN  52.888611  -8.307500  \n",
       "1318050         NaN  54.105833  -8.879722  \n",
       "\n",
       "[26888 rows x 7 columns]"
      ]
     },
     "execution_count": 232,
     "metadata": {},
     "output_type": "execute_result"
    }
   ],
   "source": [
    "# Creando dataframe con ciudades de UK\n",
    "# NOTA: Reino unido es Gran Bretaña (Escocia, Inglaterra, Gales) + Irlanda del norte\n",
    "df_uk = df[df.Country.isin(['gb', 'ie'])]\n",
    "print(\"Número de nombres distintos de ciudades en UK: \" + str(len(df_uk.City.drop_duplicates())))\n",
    "df_uk"
   ]
  },
  {
   "cell_type": "code",
   "execution_count": 233,
   "metadata": {},
   "outputs": [
    {
     "name": "stdout",
     "output_type": "stream",
     "text": [
      "Número de nombres distintos de ciudades en US: 85964\n"
     ]
    },
    {
     "data": {
      "text/html": [
       "<div>\n",
       "<style scoped>\n",
       "    .dataframe tbody tr th:only-of-type {\n",
       "        vertical-align: middle;\n",
       "    }\n",
       "\n",
       "    .dataframe tbody tr th {\n",
       "        vertical-align: top;\n",
       "    }\n",
       "\n",
       "    .dataframe thead th {\n",
       "        text-align: right;\n",
       "    }\n",
       "</style>\n",
       "<table border=\"1\" class=\"dataframe\">\n",
       "  <thead>\n",
       "    <tr style=\"text-align: right;\">\n",
       "      <th></th>\n",
       "      <th>Country</th>\n",
       "      <th>City</th>\n",
       "      <th>AccentCity</th>\n",
       "      <th>Region</th>\n",
       "      <th>Population</th>\n",
       "      <th>Latitude</th>\n",
       "      <th>Longitude</th>\n",
       "    </tr>\n",
       "  </thead>\n",
       "  <tbody>\n",
       "    <tr>\n",
       "      <th>2907718</th>\n",
       "      <td>us</td>\n",
       "      <td>abanda</td>\n",
       "      <td>Abanda</td>\n",
       "      <td>AL</td>\n",
       "      <td>NaN</td>\n",
       "      <td>33.100833</td>\n",
       "      <td>-85.529722</td>\n",
       "    </tr>\n",
       "    <tr>\n",
       "      <th>2907719</th>\n",
       "      <td>us</td>\n",
       "      <td>abbeville</td>\n",
       "      <td>Abbeville</td>\n",
       "      <td>AL</td>\n",
       "      <td>NaN</td>\n",
       "      <td>31.571667</td>\n",
       "      <td>-85.250556</td>\n",
       "    </tr>\n",
       "    <tr>\n",
       "      <th>2907720</th>\n",
       "      <td>us</td>\n",
       "      <td>abbot springs</td>\n",
       "      <td>Abbot Springs</td>\n",
       "      <td>AL</td>\n",
       "      <td>NaN</td>\n",
       "      <td>33.360833</td>\n",
       "      <td>-86.481667</td>\n",
       "    </tr>\n",
       "    <tr>\n",
       "      <th>2907721</th>\n",
       "      <td>us</td>\n",
       "      <td>abel</td>\n",
       "      <td>Abel</td>\n",
       "      <td>AL</td>\n",
       "      <td>NaN</td>\n",
       "      <td>33.548611</td>\n",
       "      <td>-85.712500</td>\n",
       "    </tr>\n",
       "    <tr>\n",
       "      <th>2907722</th>\n",
       "      <td>us</td>\n",
       "      <td>abercrombie</td>\n",
       "      <td>Abercrombie</td>\n",
       "      <td>AL</td>\n",
       "      <td>NaN</td>\n",
       "      <td>32.848611</td>\n",
       "      <td>-87.165000</td>\n",
       "    </tr>\n",
       "    <tr>\n",
       "      <th>...</th>\n",
       "      <td>...</td>\n",
       "      <td>...</td>\n",
       "      <td>...</td>\n",
       "      <td>...</td>\n",
       "      <td>...</td>\n",
       "      <td>...</td>\n",
       "      <td>...</td>\n",
       "    </tr>\n",
       "    <tr>\n",
       "      <th>3049702</th>\n",
       "      <td>us</td>\n",
       "      <td>wyoming</td>\n",
       "      <td>Wyoming</td>\n",
       "      <td>WY</td>\n",
       "      <td>NaN</td>\n",
       "      <td>41.477500</td>\n",
       "      <td>-105.636111</td>\n",
       "    </tr>\n",
       "    <tr>\n",
       "      <th>3049703</th>\n",
       "      <td>us</td>\n",
       "      <td>wyopo</td>\n",
       "      <td>Wyopo</td>\n",
       "      <td>WY</td>\n",
       "      <td>NaN</td>\n",
       "      <td>42.855556</td>\n",
       "      <td>-108.688611</td>\n",
       "    </tr>\n",
       "    <tr>\n",
       "      <th>3049704</th>\n",
       "      <td>us</td>\n",
       "      <td>y-o ranch</td>\n",
       "      <td>Y-O Ranch</td>\n",
       "      <td>WY</td>\n",
       "      <td>NaN</td>\n",
       "      <td>42.030833</td>\n",
       "      <td>-104.939444</td>\n",
       "    </tr>\n",
       "    <tr>\n",
       "      <th>3049705</th>\n",
       "      <td>us</td>\n",
       "      <td>yanceys</td>\n",
       "      <td>Yanceys</td>\n",
       "      <td>WY</td>\n",
       "      <td>NaN</td>\n",
       "      <td>44.930833</td>\n",
       "      <td>-110.435556</td>\n",
       "    </tr>\n",
       "    <tr>\n",
       "      <th>3049706</th>\n",
       "      <td>us</td>\n",
       "      <td>yoder</td>\n",
       "      <td>Yoder</td>\n",
       "      <td>WY</td>\n",
       "      <td>NaN</td>\n",
       "      <td>41.916944</td>\n",
       "      <td>-104.295278</td>\n",
       "    </tr>\n",
       "  </tbody>\n",
       "</table>\n",
       "<p>141989 rows × 7 columns</p>\n",
       "</div>"
      ],
      "text/plain": [
       "        Country           City     AccentCity Region  Population   Latitude   \n",
       "2907718      us         abanda         Abanda     AL         NaN  33.100833  \\\n",
       "2907719      us      abbeville      Abbeville     AL         NaN  31.571667   \n",
       "2907720      us  abbot springs  Abbot Springs     AL         NaN  33.360833   \n",
       "2907721      us           abel           Abel     AL         NaN  33.548611   \n",
       "2907722      us    abercrombie    Abercrombie     AL         NaN  32.848611   \n",
       "...         ...            ...            ...    ...         ...        ...   \n",
       "3049702      us        wyoming        Wyoming     WY         NaN  41.477500   \n",
       "3049703      us          wyopo          Wyopo     WY         NaN  42.855556   \n",
       "3049704      us      y-o ranch      Y-O Ranch     WY         NaN  42.030833   \n",
       "3049705      us        yanceys        Yanceys     WY         NaN  44.930833   \n",
       "3049706      us          yoder          Yoder     WY         NaN  41.916944   \n",
       "\n",
       "          Longitude  \n",
       "2907718  -85.529722  \n",
       "2907719  -85.250556  \n",
       "2907720  -86.481667  \n",
       "2907721  -85.712500  \n",
       "2907722  -87.165000  \n",
       "...             ...  \n",
       "3049702 -105.636111  \n",
       "3049703 -108.688611  \n",
       "3049704 -104.939444  \n",
       "3049705 -110.435556  \n",
       "3049706 -104.295278  \n",
       "\n",
       "[141989 rows x 7 columns]"
      ]
     },
     "execution_count": 233,
     "metadata": {},
     "output_type": "execute_result"
    }
   ],
   "source": [
    "\n",
    "df_us = df[(df.Country == 'us')]\n",
    "print(\"Número de nombres distintos de ciudades en US: \" + str(len(df_us.City.drop_duplicates())))\n",
    "df_us"
   ]
  },
  {
   "cell_type": "code",
   "execution_count": 234,
   "metadata": {},
   "outputs": [],
   "source": [
    "#Extraer listas de ciudades de costa este y oeste\n",
    "import requests\n",
    "r = requests.get('https://www.geographyrealm.com/how-many-states-are-along-the-east-and-west-coasts/')\n",
    "df_list = pd.read_html(r.text, header=0)\n",
    "east_coast_states= df_list[0]\n",
    "west_coast_states= df_list[1]"
   ]
  },
  {
   "cell_type": "code",
   "execution_count": 235,
   "metadata": {},
   "outputs": [],
   "source": [
    "#Agregar código de estado a los estados\n",
    "us_state_to_code = {\n",
    "    \"Alabama\": \"AL\",\n",
    "    \"Alaska\": \"AK\",\n",
    "    \"Arizona\": \"AZ\",\n",
    "    \"Arkansas\": \"AR\",\n",
    "    \"California\": \"CA\",\n",
    "    \"Colorado\": \"CO\",\n",
    "    \"Connecticut\": \"CT\",\n",
    "    \"Delaware\": \"DE\",\n",
    "    \"Florida\": \"FL\",\n",
    "    \"Georgia\": \"GA\",\n",
    "    \"Hawaii\": \"HI\",\n",
    "    \"Idaho\": \"ID\",\n",
    "    \"Illinois\": \"IL\",\n",
    "    \"Indiana\": \"IN\",\n",
    "    \"Iowa\": \"IA\",\n",
    "    \"Kansas\": \"KS\",\n",
    "    \"Kentucky\": \"KY\",\n",
    "    \"Louisiana\": \"LA\",\n",
    "    \"Maine\": \"ME\",\n",
    "    \"Maryland\": \"MD\",\n",
    "    \"Massachusetts\": \"MA\",\n",
    "    \"Michigan\": \"MI\",\n",
    "    \"Minnesota\": \"MN\",\n",
    "    \"Mississippi\": \"MS\",\n",
    "    \"Missouri\": \"MO\",\n",
    "    \"Montana\": \"MT\",\n",
    "    \"Nebraska\": \"NE\",\n",
    "    \"Nevada\": \"NV\",\n",
    "    \"New Hampshire\": \"NH\",\n",
    "    \"New Jersey\": \"NJ\",\n",
    "    \"New Mexico\": \"NM\",\n",
    "    \"New York\": \"NY\",\n",
    "    \"North Carolina\": \"NC\",\n",
    "    \"North Dakota\": \"ND\",\n",
    "    \"Ohio\": \"OH\",\n",
    "    \"Oklahoma\": \"OK\",\n",
    "    \"Oregon\": \"OR\",\n",
    "    \"Pennsylvania\": \"PA\",\n",
    "    \"Rhode Island\": \"RI\",\n",
    "    \"South Carolina\": \"SC\",\n",
    "    \"South Dakota\": \"SD\",\n",
    "    \"Tennessee\": \"TN\",\n",
    "    \"Texas\": \"TX\",\n",
    "    \"Utah\": \"UT\",\n",
    "    \"Vermont\": \"VT\",\n",
    "    \"Virginia\": \"VA\",\n",
    "    \"Washington\": \"WA\",\n",
    "    \"West Virginia\": \"WV\",\n",
    "    \"Wisconsin\": \"WI\",\n",
    "    \"Wyoming\": \"WY\",\n",
    "    \"District of Columbia\": \"DC\",\n",
    "    \"American Samoa\": \"AS\",\n",
    "    \"Guam\": \"GU\",\n",
    "    \"Northern Mariana Islands\": \"MP\",\n",
    "    \"Puerto Rico\": \"PR\",\n",
    "    \"United States Minor Outlying Islands\": \"UM\",\n",
    "    \"U.S. Virgin Islands\": \"VI\",\n",
    "}\n",
    "east_coast_states['state_code'] = east_coast_states.State.map(us_state_to_code)\n",
    "west_coast_states['state_code'] = west_coast_states.State.map(us_state_to_code)"
   ]
  },
  {
   "cell_type": "code",
   "execution_count": 236,
   "metadata": {},
   "outputs": [
    {
     "data": {
      "text/html": [
       "<div>\n",
       "<style scoped>\n",
       "    .dataframe tbody tr th:only-of-type {\n",
       "        vertical-align: middle;\n",
       "    }\n",
       "\n",
       "    .dataframe tbody tr th {\n",
       "        vertical-align: top;\n",
       "    }\n",
       "\n",
       "    .dataframe thead th {\n",
       "        text-align: right;\n",
       "    }\n",
       "</style>\n",
       "<table border=\"1\" class=\"dataframe\">\n",
       "  <thead>\n",
       "    <tr style=\"text-align: right;\">\n",
       "      <th></th>\n",
       "      <th>State</th>\n",
       "      <th>CRS</th>\n",
       "      <th>CRS Rank</th>\n",
       "      <th>NOAA</th>\n",
       "      <th>NOAA Rank</th>\n",
       "      <th>state_code</th>\n",
       "    </tr>\n",
       "  </thead>\n",
       "  <tbody>\n",
       "    <tr>\n",
       "      <th>0</th>\n",
       "      <td>Alaska</td>\n",
       "      <td>6,640 mi (10,690 km)</td>\n",
       "      <td>1</td>\n",
       "      <td>33,904 mi (54,563 km)</td>\n",
       "      <td>1</td>\n",
       "      <td>AK</td>\n",
       "    </tr>\n",
       "    <tr>\n",
       "      <th>1</th>\n",
       "      <td>California</td>\n",
       "      <td>840 mi (1,350 km)</td>\n",
       "      <td>3</td>\n",
       "      <td>3,427 mi (5,515 km)</td>\n",
       "      <td>5</td>\n",
       "      <td>CA</td>\n",
       "    </tr>\n",
       "    <tr>\n",
       "      <th>2</th>\n",
       "      <td>Hawaii</td>\n",
       "      <td>750 mi (1,210 km)</td>\n",
       "      <td>4</td>\n",
       "      <td>1,052 mi (1,693 km)</td>\n",
       "      <td>18</td>\n",
       "      <td>HI</td>\n",
       "    </tr>\n",
       "    <tr>\n",
       "      <th>3</th>\n",
       "      <td>Oregon</td>\n",
       "      <td>296 mi (476 km)</td>\n",
       "      <td>8</td>\n",
       "      <td>1,410 mi (2,270 km)</td>\n",
       "      <td>17</td>\n",
       "      <td>OR</td>\n",
       "    </tr>\n",
       "    <tr>\n",
       "      <th>4</th>\n",
       "      <td>Washington</td>\n",
       "      <td>157 mi (253 km)</td>\n",
       "      <td>12</td>\n",
       "      <td>3,026 mi (4,870 km)</td>\n",
       "      <td>11</td>\n",
       "      <td>WA</td>\n",
       "    </tr>\n",
       "  </tbody>\n",
       "</table>\n",
       "</div>"
      ],
      "text/plain": [
       "        State                   CRS  CRS Rank                   NOAA   \n",
       "0      Alaska  6,640 mi (10,690 km)         1  33,904 mi (54,563 km)  \\\n",
       "1  California     840 mi (1,350 km)         3    3,427 mi (5,515 km)   \n",
       "2      Hawaii     750 mi (1,210 km)         4    1,052 mi (1,693 km)   \n",
       "3      Oregon       296 mi (476 km)         8    1,410 mi (2,270 km)   \n",
       "4  Washington       157 mi (253 km)        12    3,026 mi (4,870 km)   \n",
       "\n",
       "   NOAA Rank state_code  \n",
       "0          1         AK  \n",
       "1          5         CA  \n",
       "2         18         HI  \n",
       "3         17         OR  \n",
       "4         11         WA  "
      ]
     },
     "execution_count": 236,
     "metadata": {},
     "output_type": "execute_result"
    }
   ],
   "source": [
    "west_coast_states"
   ]
  },
  {
   "cell_type": "code",
   "execution_count": 237,
   "metadata": {},
   "outputs": [
    {
     "data": {
      "text/html": [
       "<div>\n",
       "<style scoped>\n",
       "    .dataframe tbody tr th:only-of-type {\n",
       "        vertical-align: middle;\n",
       "    }\n",
       "\n",
       "    .dataframe tbody tr th {\n",
       "        vertical-align: top;\n",
       "    }\n",
       "\n",
       "    .dataframe thead th {\n",
       "        text-align: right;\n",
       "    }\n",
       "</style>\n",
       "<table border=\"1\" class=\"dataframe\">\n",
       "  <thead>\n",
       "    <tr style=\"text-align: right;\">\n",
       "      <th></th>\n",
       "      <th>State</th>\n",
       "      <th>CRS</th>\n",
       "      <th>CRS Rank</th>\n",
       "      <th>NOAA</th>\n",
       "      <th>NOAA Rank</th>\n",
       "      <th>state_code</th>\n",
       "    </tr>\n",
       "  </thead>\n",
       "  <tbody>\n",
       "    <tr>\n",
       "      <th>0</th>\n",
       "      <td>Florida</td>\n",
       "      <td>1,350 mi (2,170 km)</td>\n",
       "      <td>2</td>\n",
       "      <td>8,436 mi (13,576 km)</td>\n",
       "      <td>2</td>\n",
       "      <td>FL</td>\n",
       "    </tr>\n",
       "    <tr>\n",
       "      <th>1</th>\n",
       "      <td>North Carolina</td>\n",
       "      <td>301 mi (484 km)</td>\n",
       "      <td>7</td>\n",
       "      <td>3,375 mi (5,432 km)</td>\n",
       "      <td>6</td>\n",
       "      <td>NC</td>\n",
       "    </tr>\n",
       "    <tr>\n",
       "      <th>2</th>\n",
       "      <td>Maine</td>\n",
       "      <td>228 mi (367 km)</td>\n",
       "      <td>9</td>\n",
       "      <td>3,478 mi (5,597 km)</td>\n",
       "      <td>4</td>\n",
       "      <td>ME</td>\n",
       "    </tr>\n",
       "    <tr>\n",
       "      <th>3</th>\n",
       "      <td>Massachusetts</td>\n",
       "      <td>192 mi (309 km)</td>\n",
       "      <td>10</td>\n",
       "      <td>1,519 mi (2,445 km)</td>\n",
       "      <td>16</td>\n",
       "      <td>MA</td>\n",
       "    </tr>\n",
       "    <tr>\n",
       "      <th>4</th>\n",
       "      <td>South Carolina</td>\n",
       "      <td>187 mi (301 km)</td>\n",
       "      <td>11</td>\n",
       "      <td>2,876 mi (4,628 km)</td>\n",
       "      <td>12</td>\n",
       "      <td>SC</td>\n",
       "    </tr>\n",
       "    <tr>\n",
       "      <th>5</th>\n",
       "      <td>New Jersey</td>\n",
       "      <td>130 mi (210 km)</td>\n",
       "      <td>13</td>\n",
       "      <td>1,792 mi (2,884 km)</td>\n",
       "      <td>15</td>\n",
       "      <td>NJ</td>\n",
       "    </tr>\n",
       "    <tr>\n",
       "      <th>6</th>\n",
       "      <td>New York</td>\n",
       "      <td>127 mi (204 km)</td>\n",
       "      <td>14</td>\n",
       "      <td>2,625 mi (4,225 km)</td>\n",
       "      <td>13</td>\n",
       "      <td>NY</td>\n",
       "    </tr>\n",
       "    <tr>\n",
       "      <th>7</th>\n",
       "      <td>Virginia</td>\n",
       "      <td>112 mi (180 km)</td>\n",
       "      <td>15</td>\n",
       "      <td>3,315 mi (5,335 km)</td>\n",
       "      <td>8</td>\n",
       "      <td>VA</td>\n",
       "    </tr>\n",
       "    <tr>\n",
       "      <th>8</th>\n",
       "      <td>Georgia</td>\n",
       "      <td>100 mi (160 km)</td>\n",
       "      <td>16</td>\n",
       "      <td>2,344 mi (3,772 km)</td>\n",
       "      <td>14</td>\n",
       "      <td>GA</td>\n",
       "    </tr>\n",
       "    <tr>\n",
       "      <th>9</th>\n",
       "      <td>Connecticut</td>\n",
       "      <td>96 mi (154 km)</td>\n",
       "      <td>17</td>\n",
       "      <td>618 mi (995 km)</td>\n",
       "      <td>21</td>\n",
       "      <td>CT</td>\n",
       "    </tr>\n",
       "    <tr>\n",
       "      <th>10</th>\n",
       "      <td>Rhode Island</td>\n",
       "      <td>40 mi (64 km)</td>\n",
       "      <td>20</td>\n",
       "      <td>384 mi (618 km)</td>\n",
       "      <td>23</td>\n",
       "      <td>RI</td>\n",
       "    </tr>\n",
       "    <tr>\n",
       "      <th>11</th>\n",
       "      <td>Maryland</td>\n",
       "      <td>31 mi (50 km)</td>\n",
       "      <td>21</td>\n",
       "      <td>3,190 mi (5,130 km)</td>\n",
       "      <td>10</td>\n",
       "      <td>MD</td>\n",
       "    </tr>\n",
       "    <tr>\n",
       "      <th>12</th>\n",
       "      <td>Delaware</td>\n",
       "      <td>28 mi (45 km)</td>\n",
       "      <td>22</td>\n",
       "      <td>381 mi (613 km)</td>\n",
       "      <td>24</td>\n",
       "      <td>DE</td>\n",
       "    </tr>\n",
       "    <tr>\n",
       "      <th>13</th>\n",
       "      <td>New Hampshire</td>\n",
       "      <td>13 mi (21 km)</td>\n",
       "      <td>23</td>\n",
       "      <td>131 mi (211 km)</td>\n",
       "      <td>31</td>\n",
       "      <td>NH</td>\n",
       "    </tr>\n",
       "  </tbody>\n",
       "</table>\n",
       "</div>"
      ],
      "text/plain": [
       "             State                  CRS  CRS Rank                  NOAA   \n",
       "0          Florida  1,350 mi (2,170 km)         2  8,436 mi (13,576 km)  \\\n",
       "1   North Carolina      301 mi (484 km)         7   3,375 mi (5,432 km)   \n",
       "2            Maine      228 mi (367 km)         9   3,478 mi (5,597 km)   \n",
       "3    Massachusetts      192 mi (309 km)        10   1,519 mi (2,445 km)   \n",
       "4   South Carolina      187 mi (301 km)        11   2,876 mi (4,628 km)   \n",
       "5       New Jersey      130 mi (210 km)        13   1,792 mi (2,884 km)   \n",
       "6         New York      127 mi (204 km)        14   2,625 mi (4,225 km)   \n",
       "7         Virginia      112 mi (180 km)        15   3,315 mi (5,335 km)   \n",
       "8          Georgia      100 mi (160 km)        16   2,344 mi (3,772 km)   \n",
       "9      Connecticut       96 mi (154 km)        17       618 mi (995 km)   \n",
       "10    Rhode Island        40 mi (64 km)        20       384 mi (618 km)   \n",
       "11        Maryland        31 mi (50 km)        21   3,190 mi (5,130 km)   \n",
       "12        Delaware        28 mi (45 km)        22       381 mi (613 km)   \n",
       "13   New Hampshire        13 mi (21 km)        23       131 mi (211 km)   \n",
       "\n",
       "    NOAA Rank state_code  \n",
       "0           2         FL  \n",
       "1           6         NC  \n",
       "2           4         ME  \n",
       "3          16         MA  \n",
       "4          12         SC  \n",
       "5          15         NJ  \n",
       "6          13         NY  \n",
       "7           8         VA  \n",
       "8          14         GA  \n",
       "9          21         CT  \n",
       "10         23         RI  \n",
       "11         10         MD  \n",
       "12         24         DE  \n",
       "13         31         NH  "
      ]
     },
     "execution_count": 237,
     "metadata": {},
     "output_type": "execute_result"
    }
   ],
   "source": [
    "east_coast_states"
   ]
  },
  {
   "cell_type": "code",
   "execution_count": 238,
   "metadata": {},
   "outputs": [
    {
     "name": "stderr",
     "output_type": "stream",
     "text": [
      "C:\\Users\\rodri\\AppData\\Local\\Temp\\ipykernel_4004\\3639797938.py:3: SettingWithCopyWarning:\n",
      "\n",
      "\n",
      "A value is trying to be set on a copy of a slice from a DataFrame.\n",
      "Try using .loc[row_indexer,col_indexer] = value instead\n",
      "\n",
      "See the caveats in the documentation: https://pandas.pydata.org/pandas-docs/stable/user_guide/indexing.html#returning-a-view-versus-a-copy\n",
      "\n",
      "C:\\Users\\rodri\\AppData\\Local\\Temp\\ipykernel_4004\\3639797938.py:4: SettingWithCopyWarning:\n",
      "\n",
      "\n",
      "A value is trying to be set on a copy of a slice from a DataFrame.\n",
      "Try using .loc[row_indexer,col_indexer] = value instead\n",
      "\n",
      "See the caveats in the documentation: https://pandas.pydata.org/pandas-docs/stable/user_guide/indexing.html#returning-a-view-versus-a-copy\n",
      "\n"
     ]
    },
    {
     "data": {
      "text/html": [
       "<div>\n",
       "<style scoped>\n",
       "    .dataframe tbody tr th:only-of-type {\n",
       "        vertical-align: middle;\n",
       "    }\n",
       "\n",
       "    .dataframe tbody tr th {\n",
       "        vertical-align: top;\n",
       "    }\n",
       "\n",
       "    .dataframe thead th {\n",
       "        text-align: right;\n",
       "    }\n",
       "</style>\n",
       "<table border=\"1\" class=\"dataframe\">\n",
       "  <thead>\n",
       "    <tr style=\"text-align: right;\">\n",
       "      <th></th>\n",
       "      <th>Country</th>\n",
       "      <th>City</th>\n",
       "      <th>AccentCity</th>\n",
       "      <th>Region</th>\n",
       "      <th>Population</th>\n",
       "      <th>Latitude</th>\n",
       "      <th>Longitude</th>\n",
       "      <th>isEast</th>\n",
       "      <th>isWest</th>\n",
       "    </tr>\n",
       "  </thead>\n",
       "  <tbody>\n",
       "    <tr>\n",
       "      <th>2907718</th>\n",
       "      <td>us</td>\n",
       "      <td>abanda</td>\n",
       "      <td>Abanda</td>\n",
       "      <td>AL</td>\n",
       "      <td>NaN</td>\n",
       "      <td>33.100833</td>\n",
       "      <td>-85.529722</td>\n",
       "      <td>False</td>\n",
       "      <td>False</td>\n",
       "    </tr>\n",
       "    <tr>\n",
       "      <th>2907719</th>\n",
       "      <td>us</td>\n",
       "      <td>abbeville</td>\n",
       "      <td>Abbeville</td>\n",
       "      <td>AL</td>\n",
       "      <td>NaN</td>\n",
       "      <td>31.571667</td>\n",
       "      <td>-85.250556</td>\n",
       "      <td>False</td>\n",
       "      <td>False</td>\n",
       "    </tr>\n",
       "    <tr>\n",
       "      <th>2907720</th>\n",
       "      <td>us</td>\n",
       "      <td>abbot springs</td>\n",
       "      <td>Abbot Springs</td>\n",
       "      <td>AL</td>\n",
       "      <td>NaN</td>\n",
       "      <td>33.360833</td>\n",
       "      <td>-86.481667</td>\n",
       "      <td>False</td>\n",
       "      <td>False</td>\n",
       "    </tr>\n",
       "    <tr>\n",
       "      <th>2907721</th>\n",
       "      <td>us</td>\n",
       "      <td>abel</td>\n",
       "      <td>Abel</td>\n",
       "      <td>AL</td>\n",
       "      <td>NaN</td>\n",
       "      <td>33.548611</td>\n",
       "      <td>-85.712500</td>\n",
       "      <td>False</td>\n",
       "      <td>False</td>\n",
       "    </tr>\n",
       "    <tr>\n",
       "      <th>2907722</th>\n",
       "      <td>us</td>\n",
       "      <td>abercrombie</td>\n",
       "      <td>Abercrombie</td>\n",
       "      <td>AL</td>\n",
       "      <td>NaN</td>\n",
       "      <td>32.848611</td>\n",
       "      <td>-87.165000</td>\n",
       "      <td>False</td>\n",
       "      <td>False</td>\n",
       "    </tr>\n",
       "    <tr>\n",
       "      <th>...</th>\n",
       "      <td>...</td>\n",
       "      <td>...</td>\n",
       "      <td>...</td>\n",
       "      <td>...</td>\n",
       "      <td>...</td>\n",
       "      <td>...</td>\n",
       "      <td>...</td>\n",
       "      <td>...</td>\n",
       "      <td>...</td>\n",
       "    </tr>\n",
       "    <tr>\n",
       "      <th>3049702</th>\n",
       "      <td>us</td>\n",
       "      <td>wyoming</td>\n",
       "      <td>Wyoming</td>\n",
       "      <td>WY</td>\n",
       "      <td>NaN</td>\n",
       "      <td>41.477500</td>\n",
       "      <td>-105.636111</td>\n",
       "      <td>False</td>\n",
       "      <td>False</td>\n",
       "    </tr>\n",
       "    <tr>\n",
       "      <th>3049703</th>\n",
       "      <td>us</td>\n",
       "      <td>wyopo</td>\n",
       "      <td>Wyopo</td>\n",
       "      <td>WY</td>\n",
       "      <td>NaN</td>\n",
       "      <td>42.855556</td>\n",
       "      <td>-108.688611</td>\n",
       "      <td>False</td>\n",
       "      <td>False</td>\n",
       "    </tr>\n",
       "    <tr>\n",
       "      <th>3049704</th>\n",
       "      <td>us</td>\n",
       "      <td>y-o ranch</td>\n",
       "      <td>Y-O Ranch</td>\n",
       "      <td>WY</td>\n",
       "      <td>NaN</td>\n",
       "      <td>42.030833</td>\n",
       "      <td>-104.939444</td>\n",
       "      <td>False</td>\n",
       "      <td>False</td>\n",
       "    </tr>\n",
       "    <tr>\n",
       "      <th>3049705</th>\n",
       "      <td>us</td>\n",
       "      <td>yanceys</td>\n",
       "      <td>Yanceys</td>\n",
       "      <td>WY</td>\n",
       "      <td>NaN</td>\n",
       "      <td>44.930833</td>\n",
       "      <td>-110.435556</td>\n",
       "      <td>False</td>\n",
       "      <td>False</td>\n",
       "    </tr>\n",
       "    <tr>\n",
       "      <th>3049706</th>\n",
       "      <td>us</td>\n",
       "      <td>yoder</td>\n",
       "      <td>Yoder</td>\n",
       "      <td>WY</td>\n",
       "      <td>NaN</td>\n",
       "      <td>41.916944</td>\n",
       "      <td>-104.295278</td>\n",
       "      <td>False</td>\n",
       "      <td>False</td>\n",
       "    </tr>\n",
       "  </tbody>\n",
       "</table>\n",
       "<p>141989 rows × 9 columns</p>\n",
       "</div>"
      ],
      "text/plain": [
       "        Country           City     AccentCity Region  Population   Latitude   \n",
       "2907718      us         abanda         Abanda     AL         NaN  33.100833  \\\n",
       "2907719      us      abbeville      Abbeville     AL         NaN  31.571667   \n",
       "2907720      us  abbot springs  Abbot Springs     AL         NaN  33.360833   \n",
       "2907721      us           abel           Abel     AL         NaN  33.548611   \n",
       "2907722      us    abercrombie    Abercrombie     AL         NaN  32.848611   \n",
       "...         ...            ...            ...    ...         ...        ...   \n",
       "3049702      us        wyoming        Wyoming     WY         NaN  41.477500   \n",
       "3049703      us          wyopo          Wyopo     WY         NaN  42.855556   \n",
       "3049704      us      y-o ranch      Y-O Ranch     WY         NaN  42.030833   \n",
       "3049705      us        yanceys        Yanceys     WY         NaN  44.930833   \n",
       "3049706      us          yoder          Yoder     WY         NaN  41.916944   \n",
       "\n",
       "          Longitude  isEast  isWest  \n",
       "2907718  -85.529722   False   False  \n",
       "2907719  -85.250556   False   False  \n",
       "2907720  -86.481667   False   False  \n",
       "2907721  -85.712500   False   False  \n",
       "2907722  -87.165000   False   False  \n",
       "...             ...     ...     ...  \n",
       "3049702 -105.636111   False   False  \n",
       "3049703 -108.688611   False   False  \n",
       "3049704 -104.939444   False   False  \n",
       "3049705 -110.435556   False   False  \n",
       "3049706 -104.295278   False   False  \n",
       "\n",
       "[141989 rows x 9 columns]"
      ]
     },
     "execution_count": 238,
     "metadata": {},
     "output_type": "execute_result"
    }
   ],
   "source": [
    "#Etiquetar estados en dataframe principal\n",
    "\n",
    "df_us['isEast'] = df_us['Region'].isin(east_coast_states.state_code)\n",
    "df_us['isWest'] = df_us['Region'].isin(west_coast_states.state_code)\n",
    "df_us"
   ]
  },
  {
   "cell_type": "code",
   "execution_count": 239,
   "metadata": {},
   "outputs": [
    {
     "name": "stdout",
     "output_type": "stream",
     "text": [
      "Total estados west coast: 5\n",
      "Total estados east coast: 14\n"
     ]
    }
   ],
   "source": [
    "#Checkeo que todos los estados estén listados\n",
    "print(\"Total estados west coast: \" + str(len(df_us[df_us.isWest]['Region'].drop_duplicates()))) #5 estados, check\n",
    "print(\"Total estados east coast: \" + str(len(df_us[df_us.isEast]['Region'].drop_duplicates()))) #14 estados, check"
   ]
  },
  {
   "cell_type": "code",
   "execution_count": 240,
   "metadata": {},
   "outputs": [
    {
     "name": "stderr",
     "output_type": "stream",
     "text": [
      "C:\\Users\\rodri\\AppData\\Local\\Temp\\ipykernel_4004\\4045605639.py:2: SettingWithCopyWarning:\n",
      "\n",
      "\n",
      "A value is trying to be set on a copy of a slice from a DataFrame.\n",
      "Try using .loc[row_indexer,col_indexer] = value instead\n",
      "\n",
      "See the caveats in the documentation: https://pandas.pydata.org/pandas-docs/stable/user_guide/indexing.html#returning-a-view-versus-a-copy\n",
      "\n"
     ]
    },
    {
     "data": {
      "text/html": [
       "<div>\n",
       "<style scoped>\n",
       "    .dataframe tbody tr th:only-of-type {\n",
       "        vertical-align: middle;\n",
       "    }\n",
       "\n",
       "    .dataframe tbody tr th {\n",
       "        vertical-align: top;\n",
       "    }\n",
       "\n",
       "    .dataframe thead th {\n",
       "        text-align: right;\n",
       "    }\n",
       "</style>\n",
       "<table border=\"1\" class=\"dataframe\">\n",
       "  <thead>\n",
       "    <tr style=\"text-align: right;\">\n",
       "      <th></th>\n",
       "      <th>Country</th>\n",
       "      <th>City</th>\n",
       "      <th>AccentCity</th>\n",
       "      <th>Region</th>\n",
       "      <th>Population</th>\n",
       "      <th>Latitude</th>\n",
       "      <th>Longitude</th>\n",
       "      <th>isEast</th>\n",
       "      <th>isWest</th>\n",
       "      <th>hasUKcityname</th>\n",
       "    </tr>\n",
       "  </thead>\n",
       "  <tbody>\n",
       "    <tr>\n",
       "      <th>2907718</th>\n",
       "      <td>us</td>\n",
       "      <td>abanda</td>\n",
       "      <td>Abanda</td>\n",
       "      <td>AL</td>\n",
       "      <td>NaN</td>\n",
       "      <td>33.100833</td>\n",
       "      <td>-85.529722</td>\n",
       "      <td>False</td>\n",
       "      <td>False</td>\n",
       "      <td>False</td>\n",
       "    </tr>\n",
       "    <tr>\n",
       "      <th>2907719</th>\n",
       "      <td>us</td>\n",
       "      <td>abbeville</td>\n",
       "      <td>Abbeville</td>\n",
       "      <td>AL</td>\n",
       "      <td>NaN</td>\n",
       "      <td>31.571667</td>\n",
       "      <td>-85.250556</td>\n",
       "      <td>False</td>\n",
       "      <td>False</td>\n",
       "      <td>True</td>\n",
       "    </tr>\n",
       "    <tr>\n",
       "      <th>2907720</th>\n",
       "      <td>us</td>\n",
       "      <td>abbot springs</td>\n",
       "      <td>Abbot Springs</td>\n",
       "      <td>AL</td>\n",
       "      <td>NaN</td>\n",
       "      <td>33.360833</td>\n",
       "      <td>-86.481667</td>\n",
       "      <td>False</td>\n",
       "      <td>False</td>\n",
       "      <td>False</td>\n",
       "    </tr>\n",
       "    <tr>\n",
       "      <th>2907721</th>\n",
       "      <td>us</td>\n",
       "      <td>abel</td>\n",
       "      <td>Abel</td>\n",
       "      <td>AL</td>\n",
       "      <td>NaN</td>\n",
       "      <td>33.548611</td>\n",
       "      <td>-85.712500</td>\n",
       "      <td>False</td>\n",
       "      <td>False</td>\n",
       "      <td>False</td>\n",
       "    </tr>\n",
       "    <tr>\n",
       "      <th>2907722</th>\n",
       "      <td>us</td>\n",
       "      <td>abercrombie</td>\n",
       "      <td>Abercrombie</td>\n",
       "      <td>AL</td>\n",
       "      <td>NaN</td>\n",
       "      <td>32.848611</td>\n",
       "      <td>-87.165000</td>\n",
       "      <td>False</td>\n",
       "      <td>False</td>\n",
       "      <td>False</td>\n",
       "    </tr>\n",
       "    <tr>\n",
       "      <th>...</th>\n",
       "      <td>...</td>\n",
       "      <td>...</td>\n",
       "      <td>...</td>\n",
       "      <td>...</td>\n",
       "      <td>...</td>\n",
       "      <td>...</td>\n",
       "      <td>...</td>\n",
       "      <td>...</td>\n",
       "      <td>...</td>\n",
       "      <td>...</td>\n",
       "    </tr>\n",
       "    <tr>\n",
       "      <th>3049702</th>\n",
       "      <td>us</td>\n",
       "      <td>wyoming</td>\n",
       "      <td>Wyoming</td>\n",
       "      <td>WY</td>\n",
       "      <td>NaN</td>\n",
       "      <td>41.477500</td>\n",
       "      <td>-105.636111</td>\n",
       "      <td>False</td>\n",
       "      <td>False</td>\n",
       "      <td>False</td>\n",
       "    </tr>\n",
       "    <tr>\n",
       "      <th>3049703</th>\n",
       "      <td>us</td>\n",
       "      <td>wyopo</td>\n",
       "      <td>Wyopo</td>\n",
       "      <td>WY</td>\n",
       "      <td>NaN</td>\n",
       "      <td>42.855556</td>\n",
       "      <td>-108.688611</td>\n",
       "      <td>False</td>\n",
       "      <td>False</td>\n",
       "      <td>False</td>\n",
       "    </tr>\n",
       "    <tr>\n",
       "      <th>3049704</th>\n",
       "      <td>us</td>\n",
       "      <td>y-o ranch</td>\n",
       "      <td>Y-O Ranch</td>\n",
       "      <td>WY</td>\n",
       "      <td>NaN</td>\n",
       "      <td>42.030833</td>\n",
       "      <td>-104.939444</td>\n",
       "      <td>False</td>\n",
       "      <td>False</td>\n",
       "      <td>False</td>\n",
       "    </tr>\n",
       "    <tr>\n",
       "      <th>3049705</th>\n",
       "      <td>us</td>\n",
       "      <td>yanceys</td>\n",
       "      <td>Yanceys</td>\n",
       "      <td>WY</td>\n",
       "      <td>NaN</td>\n",
       "      <td>44.930833</td>\n",
       "      <td>-110.435556</td>\n",
       "      <td>False</td>\n",
       "      <td>False</td>\n",
       "      <td>False</td>\n",
       "    </tr>\n",
       "    <tr>\n",
       "      <th>3049706</th>\n",
       "      <td>us</td>\n",
       "      <td>yoder</td>\n",
       "      <td>Yoder</td>\n",
       "      <td>WY</td>\n",
       "      <td>NaN</td>\n",
       "      <td>41.916944</td>\n",
       "      <td>-104.295278</td>\n",
       "      <td>False</td>\n",
       "      <td>False</td>\n",
       "      <td>False</td>\n",
       "    </tr>\n",
       "  </tbody>\n",
       "</table>\n",
       "<p>141989 rows × 10 columns</p>\n",
       "</div>"
      ],
      "text/plain": [
       "        Country           City     AccentCity Region  Population   Latitude   \n",
       "2907718      us         abanda         Abanda     AL         NaN  33.100833  \\\n",
       "2907719      us      abbeville      Abbeville     AL         NaN  31.571667   \n",
       "2907720      us  abbot springs  Abbot Springs     AL         NaN  33.360833   \n",
       "2907721      us           abel           Abel     AL         NaN  33.548611   \n",
       "2907722      us    abercrombie    Abercrombie     AL         NaN  32.848611   \n",
       "...         ...            ...            ...    ...         ...        ...   \n",
       "3049702      us        wyoming        Wyoming     WY         NaN  41.477500   \n",
       "3049703      us          wyopo          Wyopo     WY         NaN  42.855556   \n",
       "3049704      us      y-o ranch      Y-O Ranch     WY         NaN  42.030833   \n",
       "3049705      us        yanceys        Yanceys     WY         NaN  44.930833   \n",
       "3049706      us          yoder          Yoder     WY         NaN  41.916944   \n",
       "\n",
       "          Longitude  isEast  isWest  hasUKcityname  \n",
       "2907718  -85.529722   False   False          False  \n",
       "2907719  -85.250556   False   False           True  \n",
       "2907720  -86.481667   False   False          False  \n",
       "2907721  -85.712500   False   False          False  \n",
       "2907722  -87.165000   False   False          False  \n",
       "...             ...     ...     ...            ...  \n",
       "3049702 -105.636111   False   False          False  \n",
       "3049703 -108.688611   False   False          False  \n",
       "3049704 -104.939444   False   False          False  \n",
       "3049705 -110.435556   False   False          False  \n",
       "3049706 -104.295278   False   False          False  \n",
       "\n",
       "[141989 rows x 10 columns]"
      ]
     },
     "execution_count": 240,
     "metadata": {},
     "output_type": "execute_result"
    }
   ],
   "source": [
    "#\n",
    "df_us['hasUKcityname'] = df_us.City.isin(df_uk.City.drop_duplicates())\n",
    "df_us"
   ]
  },
  {
   "cell_type": "code",
   "execution_count": 241,
   "metadata": {},
   "outputs": [
    {
     "name": "stderr",
     "output_type": "stream",
     "text": [
      "C:\\Users\\rodri\\AppData\\Local\\Temp\\ipykernel_4004\\4243574241.py:1: SettingWithCopyWarning:\n",
      "\n",
      "\n",
      "A value is trying to be set on a copy of a slice from a DataFrame\n",
      "\n",
      "See the caveats in the documentation: https://pandas.pydata.org/pandas-docs/stable/user_guide/indexing.html#returning-a-view-versus-a-copy\n",
      "\n",
      "C:\\Users\\rodri\\AppData\\Local\\Temp\\ipykernel_4004\\4243574241.py:2: SettingWithCopyWarning:\n",
      "\n",
      "\n",
      "A value is trying to be set on a copy of a slice from a DataFrame.\n",
      "Try using .loc[row_indexer,col_indexer] = value instead\n",
      "\n",
      "See the caveats in the documentation: https://pandas.pydata.org/pandas-docs/stable/user_guide/indexing.html#returning-a-view-versus-a-copy\n",
      "\n"
     ]
    }
   ],
   "source": [
    "df_us.rename({'Region': 'State'}, axis=1, inplace = True)\n",
    "df_us['Region'] = df_us.apply(lambda x: 'East Coast' if x['isEast'] else ('West Coast' if x['isWest'] else None), axis = 1)"
   ]
  },
  {
   "cell_type": "code",
   "execution_count": 242,
   "metadata": {},
   "outputs": [
    {
     "data": {
      "text/html": [
       "<div>\n",
       "<style scoped>\n",
       "    .dataframe tbody tr th:only-of-type {\n",
       "        vertical-align: middle;\n",
       "    }\n",
       "\n",
       "    .dataframe tbody tr th {\n",
       "        vertical-align: top;\n",
       "    }\n",
       "\n",
       "    .dataframe thead th {\n",
       "        text-align: right;\n",
       "    }\n",
       "</style>\n",
       "<table border=\"1\" class=\"dataframe\">\n",
       "  <thead>\n",
       "    <tr style=\"text-align: right;\">\n",
       "      <th></th>\n",
       "      <th>Country</th>\n",
       "      <th>City</th>\n",
       "      <th>AccentCity</th>\n",
       "      <th>State</th>\n",
       "      <th>Population</th>\n",
       "      <th>Latitude</th>\n",
       "      <th>Longitude</th>\n",
       "      <th>isEast</th>\n",
       "      <th>isWest</th>\n",
       "      <th>hasUKcityname</th>\n",
       "      <th>Region</th>\n",
       "    </tr>\n",
       "  </thead>\n",
       "  <tbody>\n",
       "    <tr>\n",
       "      <th>2907718</th>\n",
       "      <td>us</td>\n",
       "      <td>abanda</td>\n",
       "      <td>Abanda</td>\n",
       "      <td>AL</td>\n",
       "      <td>NaN</td>\n",
       "      <td>33.100833</td>\n",
       "      <td>-85.529722</td>\n",
       "      <td>False</td>\n",
       "      <td>False</td>\n",
       "      <td>False</td>\n",
       "      <td>None</td>\n",
       "    </tr>\n",
       "    <tr>\n",
       "      <th>2907719</th>\n",
       "      <td>us</td>\n",
       "      <td>abbeville</td>\n",
       "      <td>Abbeville</td>\n",
       "      <td>AL</td>\n",
       "      <td>NaN</td>\n",
       "      <td>31.571667</td>\n",
       "      <td>-85.250556</td>\n",
       "      <td>False</td>\n",
       "      <td>False</td>\n",
       "      <td>True</td>\n",
       "      <td>None</td>\n",
       "    </tr>\n",
       "    <tr>\n",
       "      <th>2907720</th>\n",
       "      <td>us</td>\n",
       "      <td>abbot springs</td>\n",
       "      <td>Abbot Springs</td>\n",
       "      <td>AL</td>\n",
       "      <td>NaN</td>\n",
       "      <td>33.360833</td>\n",
       "      <td>-86.481667</td>\n",
       "      <td>False</td>\n",
       "      <td>False</td>\n",
       "      <td>False</td>\n",
       "      <td>None</td>\n",
       "    </tr>\n",
       "    <tr>\n",
       "      <th>2907721</th>\n",
       "      <td>us</td>\n",
       "      <td>abel</td>\n",
       "      <td>Abel</td>\n",
       "      <td>AL</td>\n",
       "      <td>NaN</td>\n",
       "      <td>33.548611</td>\n",
       "      <td>-85.712500</td>\n",
       "      <td>False</td>\n",
       "      <td>False</td>\n",
       "      <td>False</td>\n",
       "      <td>None</td>\n",
       "    </tr>\n",
       "    <tr>\n",
       "      <th>2907722</th>\n",
       "      <td>us</td>\n",
       "      <td>abercrombie</td>\n",
       "      <td>Abercrombie</td>\n",
       "      <td>AL</td>\n",
       "      <td>NaN</td>\n",
       "      <td>32.848611</td>\n",
       "      <td>-87.165000</td>\n",
       "      <td>False</td>\n",
       "      <td>False</td>\n",
       "      <td>False</td>\n",
       "      <td>None</td>\n",
       "    </tr>\n",
       "    <tr>\n",
       "      <th>...</th>\n",
       "      <td>...</td>\n",
       "      <td>...</td>\n",
       "      <td>...</td>\n",
       "      <td>...</td>\n",
       "      <td>...</td>\n",
       "      <td>...</td>\n",
       "      <td>...</td>\n",
       "      <td>...</td>\n",
       "      <td>...</td>\n",
       "      <td>...</td>\n",
       "      <td>...</td>\n",
       "    </tr>\n",
       "    <tr>\n",
       "      <th>3049702</th>\n",
       "      <td>us</td>\n",
       "      <td>wyoming</td>\n",
       "      <td>Wyoming</td>\n",
       "      <td>WY</td>\n",
       "      <td>NaN</td>\n",
       "      <td>41.477500</td>\n",
       "      <td>-105.636111</td>\n",
       "      <td>False</td>\n",
       "      <td>False</td>\n",
       "      <td>False</td>\n",
       "      <td>None</td>\n",
       "    </tr>\n",
       "    <tr>\n",
       "      <th>3049703</th>\n",
       "      <td>us</td>\n",
       "      <td>wyopo</td>\n",
       "      <td>Wyopo</td>\n",
       "      <td>WY</td>\n",
       "      <td>NaN</td>\n",
       "      <td>42.855556</td>\n",
       "      <td>-108.688611</td>\n",
       "      <td>False</td>\n",
       "      <td>False</td>\n",
       "      <td>False</td>\n",
       "      <td>None</td>\n",
       "    </tr>\n",
       "    <tr>\n",
       "      <th>3049704</th>\n",
       "      <td>us</td>\n",
       "      <td>y-o ranch</td>\n",
       "      <td>Y-O Ranch</td>\n",
       "      <td>WY</td>\n",
       "      <td>NaN</td>\n",
       "      <td>42.030833</td>\n",
       "      <td>-104.939444</td>\n",
       "      <td>False</td>\n",
       "      <td>False</td>\n",
       "      <td>False</td>\n",
       "      <td>None</td>\n",
       "    </tr>\n",
       "    <tr>\n",
       "      <th>3049705</th>\n",
       "      <td>us</td>\n",
       "      <td>yanceys</td>\n",
       "      <td>Yanceys</td>\n",
       "      <td>WY</td>\n",
       "      <td>NaN</td>\n",
       "      <td>44.930833</td>\n",
       "      <td>-110.435556</td>\n",
       "      <td>False</td>\n",
       "      <td>False</td>\n",
       "      <td>False</td>\n",
       "      <td>None</td>\n",
       "    </tr>\n",
       "    <tr>\n",
       "      <th>3049706</th>\n",
       "      <td>us</td>\n",
       "      <td>yoder</td>\n",
       "      <td>Yoder</td>\n",
       "      <td>WY</td>\n",
       "      <td>NaN</td>\n",
       "      <td>41.916944</td>\n",
       "      <td>-104.295278</td>\n",
       "      <td>False</td>\n",
       "      <td>False</td>\n",
       "      <td>False</td>\n",
       "      <td>None</td>\n",
       "    </tr>\n",
       "  </tbody>\n",
       "</table>\n",
       "<p>141989 rows × 11 columns</p>\n",
       "</div>"
      ],
      "text/plain": [
       "        Country           City     AccentCity State  Population   Latitude   \n",
       "2907718      us         abanda         Abanda    AL         NaN  33.100833  \\\n",
       "2907719      us      abbeville      Abbeville    AL         NaN  31.571667   \n",
       "2907720      us  abbot springs  Abbot Springs    AL         NaN  33.360833   \n",
       "2907721      us           abel           Abel    AL         NaN  33.548611   \n",
       "2907722      us    abercrombie    Abercrombie    AL         NaN  32.848611   \n",
       "...         ...            ...            ...   ...         ...        ...   \n",
       "3049702      us        wyoming        Wyoming    WY         NaN  41.477500   \n",
       "3049703      us          wyopo          Wyopo    WY         NaN  42.855556   \n",
       "3049704      us      y-o ranch      Y-O Ranch    WY         NaN  42.030833   \n",
       "3049705      us        yanceys        Yanceys    WY         NaN  44.930833   \n",
       "3049706      us          yoder          Yoder    WY         NaN  41.916944   \n",
       "\n",
       "          Longitude  isEast  isWest  hasUKcityname Region  \n",
       "2907718  -85.529722   False   False          False   None  \n",
       "2907719  -85.250556   False   False           True   None  \n",
       "2907720  -86.481667   False   False          False   None  \n",
       "2907721  -85.712500   False   False          False   None  \n",
       "2907722  -87.165000   False   False          False   None  \n",
       "...             ...     ...     ...            ...    ...  \n",
       "3049702 -105.636111   False   False          False   None  \n",
       "3049703 -108.688611   False   False          False   None  \n",
       "3049704 -104.939444   False   False          False   None  \n",
       "3049705 -110.435556   False   False          False   None  \n",
       "3049706 -104.295278   False   False          False   None  \n",
       "\n",
       "[141989 rows x 11 columns]"
      ]
     },
     "execution_count": 242,
     "metadata": {},
     "output_type": "execute_result"
    }
   ],
   "source": [
    "df_us"
   ]
  },
  {
   "cell_type": "code",
   "execution_count": 243,
   "metadata": {},
   "outputs": [
    {
     "data": {
      "text/html": [
       "<div>\n",
       "<style scoped>\n",
       "    .dataframe tbody tr th:only-of-type {\n",
       "        vertical-align: middle;\n",
       "    }\n",
       "\n",
       "    .dataframe tbody tr th {\n",
       "        vertical-align: top;\n",
       "    }\n",
       "\n",
       "    .dataframe thead th {\n",
       "        text-align: right;\n",
       "    }\n",
       "</style>\n",
       "<table border=\"1\" class=\"dataframe\">\n",
       "  <thead>\n",
       "    <tr style=\"text-align: right;\">\n",
       "      <th></th>\n",
       "      <th>City</th>\n",
       "      <th>State</th>\n",
       "      <th>Region</th>\n",
       "      <th>hasUKcityname</th>\n",
       "    </tr>\n",
       "  </thead>\n",
       "  <tbody>\n",
       "    <tr>\n",
       "      <th>2911976</th>\n",
       "      <td>adak</td>\n",
       "      <td>AK</td>\n",
       "      <td>West Coast</td>\n",
       "      <td>False</td>\n",
       "    </tr>\n",
       "    <tr>\n",
       "      <th>2911977</th>\n",
       "      <td>afognak</td>\n",
       "      <td>AK</td>\n",
       "      <td>West Coast</td>\n",
       "      <td>False</td>\n",
       "    </tr>\n",
       "    <tr>\n",
       "      <th>2911978</th>\n",
       "      <td>aguikchuk</td>\n",
       "      <td>AK</td>\n",
       "      <td>West Coast</td>\n",
       "      <td>False</td>\n",
       "    </tr>\n",
       "    <tr>\n",
       "      <th>2911979</th>\n",
       "      <td>akhiok</td>\n",
       "      <td>AK</td>\n",
       "      <td>West Coast</td>\n",
       "      <td>False</td>\n",
       "    </tr>\n",
       "    <tr>\n",
       "      <th>2911980</th>\n",
       "      <td>akiachak</td>\n",
       "      <td>AK</td>\n",
       "      <td>West Coast</td>\n",
       "      <td>False</td>\n",
       "    </tr>\n",
       "    <tr>\n",
       "      <th>...</th>\n",
       "      <td>...</td>\n",
       "      <td>...</td>\n",
       "      <td>...</td>\n",
       "      <td>...</td>\n",
       "    </tr>\n",
       "    <tr>\n",
       "      <th>3043304</th>\n",
       "      <td>york</td>\n",
       "      <td>WA</td>\n",
       "      <td>West Coast</td>\n",
       "      <td>True</td>\n",
       "    </tr>\n",
       "    <tr>\n",
       "      <th>3043305</th>\n",
       "      <td>zangar junction</td>\n",
       "      <td>WA</td>\n",
       "      <td>West Coast</td>\n",
       "      <td>False</td>\n",
       "    </tr>\n",
       "    <tr>\n",
       "      <th>3043306</th>\n",
       "      <td>zenith</td>\n",
       "      <td>WA</td>\n",
       "      <td>West Coast</td>\n",
       "      <td>False</td>\n",
       "    </tr>\n",
       "    <tr>\n",
       "      <th>3043307</th>\n",
       "      <td>zillah</td>\n",
       "      <td>WA</td>\n",
       "      <td>West Coast</td>\n",
       "      <td>False</td>\n",
       "    </tr>\n",
       "    <tr>\n",
       "      <th>3043308</th>\n",
       "      <td>zumwalt</td>\n",
       "      <td>WA</td>\n",
       "      <td>West Coast</td>\n",
       "      <td>False</td>\n",
       "    </tr>\n",
       "  </tbody>\n",
       "</table>\n",
       "<p>57120 rows × 4 columns</p>\n",
       "</div>"
      ],
      "text/plain": [
       "                    City State      Region  hasUKcityname\n",
       "2911976             adak    AK  West Coast          False\n",
       "2911977          afognak    AK  West Coast          False\n",
       "2911978        aguikchuk    AK  West Coast          False\n",
       "2911979           akhiok    AK  West Coast          False\n",
       "2911980         akiachak    AK  West Coast          False\n",
       "...                  ...   ...         ...            ...\n",
       "3043304             york    WA  West Coast           True\n",
       "3043305  zangar junction    WA  West Coast          False\n",
       "3043306           zenith    WA  West Coast          False\n",
       "3043307           zillah    WA  West Coast          False\n",
       "3043308          zumwalt    WA  West Coast          False\n",
       "\n",
       "[57120 rows x 4 columns]"
      ]
     },
     "execution_count": 243,
     "metadata": {},
     "output_type": "execute_result"
    }
   ],
   "source": [
    "#Filtrar datos para análisis final\n",
    "df_us_west_east = df_us[df_us.isEast | df_us.isWest][['City', 'State', 'Region', 'hasUKcityname']].drop_duplicates()\n",
    "df_us_west_east"
   ]
  },
  {
   "cell_type": "code",
   "execution_count": 244,
   "metadata": {},
   "outputs": [
    {
     "data": {
      "text/html": [
       "<div>\n",
       "<style scoped>\n",
       "    .dataframe tbody tr th:only-of-type {\n",
       "        vertical-align: middle;\n",
       "    }\n",
       "\n",
       "    .dataframe tbody tr th {\n",
       "        vertical-align: top;\n",
       "    }\n",
       "\n",
       "    .dataframe thead th {\n",
       "        text-align: right;\n",
       "    }\n",
       "</style>\n",
       "<table border=\"1\" class=\"dataframe\">\n",
       "  <thead>\n",
       "    <tr style=\"text-align: right;\">\n",
       "      <th></th>\n",
       "      <th>Region</th>\n",
       "      <th>Total_Cities</th>\n",
       "      <th>Total_Cities_with_UK_city_name</th>\n",
       "      <th>total_perc</th>\n",
       "    </tr>\n",
       "  </thead>\n",
       "  <tbody>\n",
       "    <tr>\n",
       "      <th>0</th>\n",
       "      <td>East Coast</td>\n",
       "      <td>36721</td>\n",
       "      <td>3208</td>\n",
       "      <td>8.7</td>\n",
       "    </tr>\n",
       "    <tr>\n",
       "      <th>1</th>\n",
       "      <td>West Coast</td>\n",
       "      <td>9440</td>\n",
       "      <td>675</td>\n",
       "      <td>7.2</td>\n",
       "    </tr>\n",
       "  </tbody>\n",
       "</table>\n",
       "</div>"
      ],
      "text/plain": [
       "       Region  Total_Cities  Total_Cities_with_UK_city_name  total_perc\n",
       "0  East Coast         36721                            3208         8.7\n",
       "1  West Coast          9440                             675         7.2"
      ]
     },
     "execution_count": 244,
     "metadata": {},
     "output_type": "execute_result"
    }
   ],
   "source": [
    "# Desglose por región\n",
    "region_summary = df_us_west_east.groupby(['Region']).agg(\n",
    "                                    {'City': 'nunique', \n",
    "                                    'hasUKcityname': 'sum'}).reset_index().rename({\n",
    "                                                                                    'City': 'Total_Cities',\n",
    "                                                                                    'hasUKcityname': 'Total_Cities_with_UK_city_name'\n",
    "                                    }, axis=1)\n",
    "region_summary['total_perc'] = region_summary.apply(lambda x: round(100 * x['Total_Cities_with_UK_city_name']/x['Total_Cities'], 1), axis = 1)\n",
    "region_summary"
   ]
  },
  {
   "cell_type": "code",
   "execution_count": 245,
   "metadata": {},
   "outputs": [
    {
     "data": {
      "text/html": [
       "<div>\n",
       "<style scoped>\n",
       "    .dataframe tbody tr th:only-of-type {\n",
       "        vertical-align: middle;\n",
       "    }\n",
       "\n",
       "    .dataframe tbody tr th {\n",
       "        vertical-align: top;\n",
       "    }\n",
       "\n",
       "    .dataframe thead th {\n",
       "        text-align: right;\n",
       "    }\n",
       "</style>\n",
       "<table border=\"1\" class=\"dataframe\">\n",
       "  <thead>\n",
       "    <tr style=\"text-align: right;\">\n",
       "      <th></th>\n",
       "      <th>Region</th>\n",
       "      <th>State</th>\n",
       "      <th>Total_Cities</th>\n",
       "      <th>Total_Cities_with_UK_city_name</th>\n",
       "      <th>total_perc</th>\n",
       "    </tr>\n",
       "  </thead>\n",
       "  <tbody>\n",
       "    <tr>\n",
       "      <th>0</th>\n",
       "      <td>East Coast</td>\n",
       "      <td>CT</td>\n",
       "      <td>977</td>\n",
       "      <td>108</td>\n",
       "      <td>11.1</td>\n",
       "    </tr>\n",
       "    <tr>\n",
       "      <th>1</th>\n",
       "      <td>East Coast</td>\n",
       "      <td>DE</td>\n",
       "      <td>1546</td>\n",
       "      <td>91</td>\n",
       "      <td>5.9</td>\n",
       "    </tr>\n",
       "    <tr>\n",
       "      <th>2</th>\n",
       "      <td>East Coast</td>\n",
       "      <td>FL</td>\n",
       "      <td>3158</td>\n",
       "      <td>175</td>\n",
       "      <td>5.5</td>\n",
       "    </tr>\n",
       "    <tr>\n",
       "      <th>3</th>\n",
       "      <td>East Coast</td>\n",
       "      <td>GA</td>\n",
       "      <td>5438</td>\n",
       "      <td>344</td>\n",
       "      <td>6.3</td>\n",
       "    </tr>\n",
       "    <tr>\n",
       "      <th>4</th>\n",
       "      <td>East Coast</td>\n",
       "      <td>MA</td>\n",
       "      <td>2176</td>\n",
       "      <td>238</td>\n",
       "      <td>10.9</td>\n",
       "    </tr>\n",
       "    <tr>\n",
       "      <th>5</th>\n",
       "      <td>East Coast</td>\n",
       "      <td>MD</td>\n",
       "      <td>7263</td>\n",
       "      <td>375</td>\n",
       "      <td>5.2</td>\n",
       "    </tr>\n",
       "    <tr>\n",
       "      <th>6</th>\n",
       "      <td>East Coast</td>\n",
       "      <td>ME</td>\n",
       "      <td>2032</td>\n",
       "      <td>149</td>\n",
       "      <td>7.3</td>\n",
       "    </tr>\n",
       "    <tr>\n",
       "      <th>7</th>\n",
       "      <td>East Coast</td>\n",
       "      <td>NC</td>\n",
       "      <td>4488</td>\n",
       "      <td>307</td>\n",
       "      <td>6.8</td>\n",
       "    </tr>\n",
       "    <tr>\n",
       "      <th>8</th>\n",
       "      <td>East Coast</td>\n",
       "      <td>NH</td>\n",
       "      <td>965</td>\n",
       "      <td>140</td>\n",
       "      <td>14.5</td>\n",
       "    </tr>\n",
       "    <tr>\n",
       "      <th>9</th>\n",
       "      <td>East Coast</td>\n",
       "      <td>NJ</td>\n",
       "      <td>2387</td>\n",
       "      <td>194</td>\n",
       "      <td>8.1</td>\n",
       "    </tr>\n",
       "    <tr>\n",
       "      <th>10</th>\n",
       "      <td>East Coast</td>\n",
       "      <td>NY</td>\n",
       "      <td>5834</td>\n",
       "      <td>377</td>\n",
       "      <td>6.5</td>\n",
       "    </tr>\n",
       "    <tr>\n",
       "      <th>11</th>\n",
       "      <td>East Coast</td>\n",
       "      <td>RI</td>\n",
       "      <td>364</td>\n",
       "      <td>44</td>\n",
       "      <td>12.1</td>\n",
       "    </tr>\n",
       "    <tr>\n",
       "      <th>12</th>\n",
       "      <td>East Coast</td>\n",
       "      <td>SC</td>\n",
       "      <td>3513</td>\n",
       "      <td>236</td>\n",
       "      <td>6.7</td>\n",
       "    </tr>\n",
       "    <tr>\n",
       "      <th>13</th>\n",
       "      <td>East Coast</td>\n",
       "      <td>VA</td>\n",
       "      <td>6719</td>\n",
       "      <td>430</td>\n",
       "      <td>6.4</td>\n",
       "    </tr>\n",
       "    <tr>\n",
       "      <th>14</th>\n",
       "      <td>West Coast</td>\n",
       "      <td>AK</td>\n",
       "      <td>677</td>\n",
       "      <td>29</td>\n",
       "      <td>4.3</td>\n",
       "    </tr>\n",
       "    <tr>\n",
       "      <th>15</th>\n",
       "      <td>West Coast</td>\n",
       "      <td>CA</td>\n",
       "      <td>5436</td>\n",
       "      <td>282</td>\n",
       "      <td>5.2</td>\n",
       "    </tr>\n",
       "    <tr>\n",
       "      <th>16</th>\n",
       "      <td>West Coast</td>\n",
       "      <td>HI</td>\n",
       "      <td>468</td>\n",
       "      <td>2</td>\n",
       "      <td>0.4</td>\n",
       "    </tr>\n",
       "    <tr>\n",
       "      <th>17</th>\n",
       "      <td>West Coast</td>\n",
       "      <td>OR</td>\n",
       "      <td>1299</td>\n",
       "      <td>134</td>\n",
       "      <td>10.3</td>\n",
       "    </tr>\n",
       "    <tr>\n",
       "      <th>18</th>\n",
       "      <td>West Coast</td>\n",
       "      <td>WA</td>\n",
       "      <td>2380</td>\n",
       "      <td>228</td>\n",
       "      <td>9.6</td>\n",
       "    </tr>\n",
       "  </tbody>\n",
       "</table>\n",
       "</div>"
      ],
      "text/plain": [
       "        Region State  Total_Cities  Total_Cities_with_UK_city_name  total_perc\n",
       "0   East Coast    CT           977                             108        11.1\n",
       "1   East Coast    DE          1546                              91         5.9\n",
       "2   East Coast    FL          3158                             175         5.5\n",
       "3   East Coast    GA          5438                             344         6.3\n",
       "4   East Coast    MA          2176                             238        10.9\n",
       "5   East Coast    MD          7263                             375         5.2\n",
       "6   East Coast    ME          2032                             149         7.3\n",
       "7   East Coast    NC          4488                             307         6.8\n",
       "8   East Coast    NH           965                             140        14.5\n",
       "9   East Coast    NJ          2387                             194         8.1\n",
       "10  East Coast    NY          5834                             377         6.5\n",
       "11  East Coast    RI           364                              44        12.1\n",
       "12  East Coast    SC          3513                             236         6.7\n",
       "13  East Coast    VA          6719                             430         6.4\n",
       "14  West Coast    AK           677                              29         4.3\n",
       "15  West Coast    CA          5436                             282         5.2\n",
       "16  West Coast    HI           468                               2         0.4\n",
       "17  West Coast    OR          1299                             134        10.3\n",
       "18  West Coast    WA          2380                             228         9.6"
      ]
     },
     "execution_count": 245,
     "metadata": {},
     "output_type": "execute_result"
    }
   ],
   "source": [
    "# Desglose por estado\n",
    "state_summary = df_us_west_east.groupby(['Region','State']).agg(\n",
    "                                                {'City': 'nunique', \n",
    "                                                'hasUKcityname': 'sum'}).reset_index().rename({\n",
    "                                                                                    'City': 'Total_Cities',\n",
    "                                                                                    'hasUKcityname': 'Total_Cities_with_UK_city_name'\n",
    "                                    }, axis=1)\n",
    "state_summary['total_perc'] = state_summary.apply(lambda x: round(100 * x['Total_Cities_with_UK_city_name']/x['Total_Cities'], 1), axis = 1)\n",
    "state_summary\n"
   ]
  },
  {
   "cell_type": "code",
   "execution_count": 250,
   "metadata": {},
   "outputs": [
    {
     "data": {
      "image/png": "[encoded data removed]",
      "text/plain": [
       "<Figure size 800x600 with 1 Axes>"
      ]
     },
     "metadata": {},
     "output_type": "display_data"
    }
   ],
   "source": [
    "import seaborn as sns\n",
    "fig, ax = plt.subplots(figsize=(8, 6))\n",
    "#sns.barplot(x='set', y='val', data=df)\n",
    "sns.barplot(data=region_summary, \n",
    "                        x=\"Region\", \n",
    "                        y=\"Total_Cities_with_UK_city_name\", \n",
    "                        palette = 'Blues_r',\n",
    "                        capsize=0.2, ax=ax).set(xlabel='Region', \n",
    "                                                 ylabel='', \n",
    "                                                 title='Total ciudades/poblados en USA con nombres de ciudades de UK',\n",
    "                                                 yticklabels = [])\n",
    "\n",
    "for p in ax.patches:\n",
    "    h, w, x = p.get_height(), p.get_width(), p.get_x()\n",
    "    xy = (x + w / 2., h / 2)\n",
    "    text = f'Total:\\n{h:0.0f}'\n",
    "    ax.annotate(text=text, xy=xy, ha='center', va='center')"
   ]
  },
  {
   "cell_type": "code",
   "execution_count": 247,
   "metadata": {},
   "outputs": [
    {
     "data": {
      "application/vnd.plotly.v1+json": {
       "config": {
        "plotlyServerURL": "https://plot.ly"
       },
       "data": [
        {
         "coloraxis": "coloraxis",
         "geo": "geo",
         "hovertemplate": "State=%{location}<br>Total_Cities_with_UK_city_name=%{z}<extra></extra>",
         "locationmode": "USA-states",
         "locations": [
          "CT",
          "DE",
          "FL",
          "GA",
          "MA",
          "MD",
          "ME",
          "NC",
          "NH",
          "NJ",
          "NY",
          "RI",
          "SC",
          "VA",
          "AK",
          "CA",
          "HI",
          "OR",
          "WA"
         ],
         "name": "",
         "type": "choropleth",
         "z": [
          108,
          91,
          175,
          344,
          238,
          375,
          149,
          307,
          140,
          194,
          377,
          44,
          236,
          430,
          29,
          282,
          2,
          134,
          228
         ]
        }
       ],
       "layout": {
        "coloraxis": {
         "colorbar": {
          "ticks": "outside",
          "title": {
           "text": "Total ciudades/poblados"
          },
          "y": 1,
          "yanchor": "top"
         },
         "colorscale": [
          [
           0,
           "rgb(26,26,26)"
          ],
          [
           0.1,
           "rgb(77,77,77)"
          ],
          [
           0.2,
           "rgb(135,135,135)"
          ],
          [
           0.3,
           "rgb(186,186,186)"
          ],
          [
           0.4,
           "rgb(224,224,224)"
          ],
          [
           0.5,
           "rgb(255,255,255)"
          ],
          [
           0.6,
           "rgb(253,219,199)"
          ],
          [
           0.7,
           "rgb(244,165,130)"
          ],
          [
           0.8,
           "rgb(214,96,77)"
          ],
          [
           0.9,
           "rgb(178,24,43)"
          ],
          [
           1,
           "rgb(103,0,31)"
          ]
         ]
        },
        "geo": {
         "center": {},
         "domain": {
          "x": [
           0,
           1
          ],
          "y": [
           0,
           1
          ]
         },
         "scope": "usa"
        },
        "legend": {
         "tracegroupgap": 0
        },
        "margin": {
         "t": 60
        },
        "template": {
         "data": {
          "bar": [
           {
            "error_x": {
             "color": "#2a3f5f"
            },
            "error_y": {
             "color": "#2a3f5f"
            },
            "marker": {
             "line": {
              "color": "#E5ECF6",
              "width": 0.5
             },
             "pattern": {
              "fillmode": "overlay",
              "size": 10,
              "solidity": 0.2
             }
            },
            "type": "bar"
           }
          ],
          "barpolar": [
           {
            "marker": {
             "line": {
              "color": "#E5ECF6",
              "width": 0.5
             },
             "pattern": {
              "fillmode": "overlay",
              "size": 10,
              "solidity": 0.2
             }
            },
            "type": "barpolar"
           }
          ],
          "carpet": [
           {
            "aaxis": {
             "endlinecolor": "#2a3f5f",
             "gridcolor": "white",
             "linecolor": "white",
             "minorgridcolor": "white",
             "startlinecolor": "#2a3f5f"
            },
            "baxis": {
             "endlinecolor": "#2a3f5f",
             "gridcolor": "white",
             "linecolor": "white",
             "minorgridcolor": "white",
             "startlinecolor": "#2a3f5f"
            },
            "type": "carpet"
           }
          ],
          "choropleth": [
           {
            "colorbar": {
             "outlinewidth": 0,
             "ticks": ""
            },
            "type": "choropleth"
           }
          ],
          "contour": [
           {
            "colorbar": {
             "outlinewidth": 0,
             "ticks": ""
            },
            "colorscale": [
             [
              0,
              "#0d0887"
             ],
             [
              0.1111111111111111,
              "#46039f"
             ],
             [
              0.2222222222222222,
              "#7201a8"
             ],
             [
              0.3333333333333333,
              "#9c179e"
             ],
             [
              0.4444444444444444,
              "#bd3786"
             ],
             [
              0.5555555555555556,
              "#d8576b"
             ],
             [
              0.6666666666666666,
              "#ed7953"
             ],
             [
              0.7777777777777778,
              "#fb9f3a"
             ],
             [
              0.8888888888888888,
              "#fdca26"
             ],
             [
              1,
              "#f0f921"
             ]
            ],
            "type": "contour"
           }
          ],
          "contourcarpet": [
           {
            "colorbar": {
             "outlinewidth": 0,
             "ticks": ""
            },
            "type": "contourcarpet"
           }
          ],
          "heatmap": [
           {
            "colorbar": {
             "outlinewidth": 0,
             "ticks": ""
            },
            "colorscale": [
             [
              0,
              "#0d0887"
             ],
             [
              0.1111111111111111,
              "#46039f"
             ],
             [
              0.2222222222222222,
              "#7201a8"
             ],
             [
              0.3333333333333333,
              "#9c179e"
             ],
             [
              0.4444444444444444,
              "#bd3786"
             ],
             [
              0.5555555555555556,
              "#d8576b"
             ],
             [
              0.6666666666666666,
              "#ed7953"
             ],
             [
              0.7777777777777778,
              "#fb9f3a"
             ],
             [
              0.8888888888888888,
              "#fdca26"
             ],
             [
              1,
              "#f0f921"
             ]
            ],
            "type": "heatmap"
           }
          ],
          "heatmapgl": [
           {
            "colorbar": {
             "outlinewidth": 0,
             "ticks": ""
            },
            "colorscale": [
             [
              0,
              "#0d0887"
             ],
             [
              0.1111111111111111,
              "#46039f"
             ],
             [
              0.2222222222222222,
              "#7201a8"
             ],
             [
              0.3333333333333333,
              "#9c179e"
             ],
             [
              0.4444444444444444,
              "#bd3786"
             ],
             [
              0.5555555555555556,
              "#d8576b"
             ],
             [
              0.6666666666666666,
              "#ed7953"
             ],
             [
              0.7777777777777778,
              "#fb9f3a"
             ],
             [
              0.8888888888888888,
              "#fdca26"
             ],
             [
              1,
              "#f0f921"
             ]
            ],
            "type": "heatmapgl"
           }
          ],
          "histogram": [
           {
            "marker": {
             "pattern": {
              "fillmode": "overlay",
              "size": 10,
              "solidity": 0.2
             }
            },
            "type": "histogram"
           }
          ],
          "histogram2d": [
           {
            "colorbar": {
             "outlinewidth": 0,
             "ticks": ""
            },
            "colorscale": [
             [
              0,
              "#0d0887"
             ],
             [
              0.1111111111111111,
              "#46039f"
             ],
             [
              0.2222222222222222,
              "#7201a8"
             ],
             [
              0.3333333333333333,
              "#9c179e"
             ],
             [
              0.4444444444444444,
              "#bd3786"
             ],
             [
              0.5555555555555556,
              "#d8576b"
             ],
             [
              0.6666666666666666,
              "#ed7953"
             ],
             [
              0.7777777777777778,
              "#fb9f3a"
             ],
             [
              0.8888888888888888,
              "#fdca26"
             ],
             [
              1,
              "#f0f921"
             ]
            ],
            "type": "histogram2d"
           }
          ],
          "histogram2dcontour": [
           {
            "colorbar": {
             "outlinewidth": 0,
             "ticks": ""
            },
            "colorscale": [
             [
              0,
              "#0d0887"
             ],
             [
              0.1111111111111111,
              "#46039f"
             ],
             [
              0.2222222222222222,
              "#7201a8"
             ],
             [
              0.3333333333333333,
              "#9c179e"
             ],
             [
              0.4444444444444444,
              "#bd3786"
             ],
             [
              0.5555555555555556,
              "#d8576b"
             ],
             [
              0.6666666666666666,
              "#ed7953"
             ],
             [
              0.7777777777777778,
              "#fb9f3a"
             ],
             [
              0.8888888888888888,
              "#fdca26"
             ],
             [
              1,
              "#f0f921"
             ]
            ],
            "type": "histogram2dcontour"
           }
          ],
          "mesh3d": [
           {
            "colorbar": {
             "outlinewidth": 0,
             "ticks": ""
            },
            "type": "mesh3d"
           }
          ],
          "parcoords": [
           {
            "line": {
             "colorbar": {
              "outlinewidth": 0,
              "ticks": ""
             }
            },
            "type": "parcoords"
           }
          ],
          "pie": [
           {
            "automargin": true,
            "type": "pie"
           }
          ],
          "scatter": [
           {
            "fillpattern": {
             "fillmode": "overlay",
             "size": 10,
             "solidity": 0.2
            },
            "type": "scatter"
           }
          ],
          "scatter3d": [
           {
            "line": {
             "colorbar": {
              "outlinewidth": 0,
              "ticks": ""
             }
            },
            "marker": {
             "colorbar": {
              "outlinewidth": 0,
              "ticks": ""
             }
            },
            "type": "scatter3d"
           }
          ],
          "scattercarpet": [
           {
            "marker": {
             "colorbar": {
              "outlinewidth": 0,
              "ticks": ""
             }
            },
            "type": "scattercarpet"
           }
          ],
          "scattergeo": [
           {
            "marker": {
             "colorbar": {
              "outlinewidth": 0,
              "ticks": ""
             }
            },
            "type": "scattergeo"
           }
          ],
          "scattergl": [
           {
            "marker": {
             "colorbar": {
              "outlinewidth": 0,
              "ticks": ""
             }
            },
            "type": "scattergl"
           }
          ],
          "scattermapbox": [
           {
            "marker": {
             "colorbar": {
              "outlinewidth": 0,
              "ticks": ""
             }
            },
            "type": "scattermapbox"
           }
          ],
          "scatterpolar": [
           {
            "marker": {
             "colorbar": {
              "outlinewidth": 0,
              "ticks": ""
             }
            },
            "type": "scatterpolar"
           }
          ],
          "scatterpolargl": [
           {
            "marker": {
             "colorbar": {
              "outlinewidth": 0,
              "ticks": ""
             }
            },
            "type": "scatterpolargl"
           }
          ],
          "scatterternary": [
           {
            "marker": {
             "colorbar": {
              "outlinewidth": 0,
              "ticks": ""
             }
            },
            "type": "scatterternary"
           }
          ],
          "surface": [
           {
            "colorbar": {
             "outlinewidth": 0,
             "ticks": ""
            },
            "colorscale": [
             [
              0,
              "#0d0887"
             ],
             [
              0.1111111111111111,
              "#46039f"
             ],
             [
              0.2222222222222222,
              "#7201a8"
             ],
             [
              0.3333333333333333,
              "#9c179e"
             ],
             [
              0.4444444444444444,
              "#bd3786"
             ],
             [
              0.5555555555555556,
              "#d8576b"
             ],
             [
              0.6666666666666666,
              "#ed7953"
             ],
             [
              0.7777777777777778,
              "#fb9f3a"
             ],
             [
              0.8888888888888888,
              "#fdca26"
             ],
             [
              1,
              "#f0f921"
             ]
            ],
            "type": "surface"
           }
          ],
          "table": [
           {
            "cells": {
             "fill": {
              "color": "#EBF0F8"
             },
             "line": {
              "color": "white"
             }
            },
            "header": {
             "fill": {
              "color": "#C8D4E3"
             },
             "line": {
              "color": "white"
             }
            },
            "type": "table"
           }
          ]
         },
         "layout": {
          "annotationdefaults": {
           "arrowcolor": "#2a3f5f",
           "arrowhead": 0,
           "arrowwidth": 1
          },
          "autotypenumbers": "strict",
          "coloraxis": {
           "colorbar": {
            "outlinewidth": 0,
            "ticks": ""
           }
          },
          "colorscale": {
           "diverging": [
            [
             0,
             "#8e0152"
            ],
            [
             0.1,
             "#c51b7d"
            ],
            [
             0.2,
             "#de77ae"
            ],
            [
             0.3,
             "#f1b6da"
            ],
            [
             0.4,
             "#fde0ef"
            ],
            [
             0.5,
             "#f7f7f7"
            ],
            [
             0.6,
             "#e6f5d0"
            ],
            [
             0.7,
             "#b8e186"
            ],
            [
             0.8,
             "#7fbc41"
            ],
            [
             0.9,
             "#4d9221"
            ],
            [
             1,
             "#276419"
            ]
           ],
           "sequential": [
            [
             0,
             "#0d0887"
            ],
            [
             0.1111111111111111,
             "#46039f"
            ],
            [
             0.2222222222222222,
             "#7201a8"
            ],
            [
             0.3333333333333333,
             "#9c179e"
            ],
            [
             0.4444444444444444,
             "#bd3786"
            ],
            [
             0.5555555555555556,
             "#d8576b"
            ],
            [
             0.6666666666666666,
             "#ed7953"
            ],
            [
             0.7777777777777778,
             "#fb9f3a"
            ],
            [
             0.8888888888888888,
             "#fdca26"
            ],
            [
             1,
             "#f0f921"
            ]
           ],
           "sequentialminus": [
            [
             0,
             "#0d0887"
            ],
            [
             0.1111111111111111,
             "#46039f"
            ],
            [
             0.2222222222222222,
             "#7201a8"
            ],
            [
             0.3333333333333333,
             "#9c179e"
            ],
            [
             0.4444444444444444,
             "#bd3786"
            ],
            [
             0.5555555555555556,
             "#d8576b"
            ],
            [
             0.6666666666666666,
             "#ed7953"
            ],
            [
             0.7777777777777778,
             "#fb9f3a"
            ],
            [
             0.8888888888888888,
             "#fdca26"
            ],
            [
             1,
             "#f0f921"
            ]
           ]
          },
          "colorway": [
           "#636efa",
           "#EF553B",
           "#00cc96",
           "#ab63fa",
           "#FFA15A",
           "#19d3f3",
           "#FF6692",
           "#B6E880",
           "#FF97FF",
           "#FECB52"
          ],
          "font": {
           "color": "#2a3f5f"
          },
          "geo": {
           "bgcolor": "white",
           "lakecolor": "white",
           "landcolor": "#E5ECF6",
           "showlakes": true,
           "showland": true,
           "subunitcolor": "white"
          },
          "hoverlabel": {
           "align": "left"
          },
          "hovermode": "closest",
          "mapbox": {
           "style": "light"
          },
          "paper_bgcolor": "white",
          "plot_bgcolor": "#E5ECF6",
          "polar": {
           "angularaxis": {
            "gridcolor": "white",
            "linecolor": "white",
            "ticks": ""
           },
           "bgcolor": "#E5ECF6",
           "radialaxis": {
            "gridcolor": "white",
            "linecolor": "white",
            "ticks": ""
           }
          },
          "scene": {
           "xaxis": {
            "backgroundcolor": "#E5ECF6",
            "gridcolor": "white",
            "gridwidth": 2,
            "linecolor": "white",
            "showbackground": true,
            "ticks": "",
            "zerolinecolor": "white"
           },
           "yaxis": {
            "backgroundcolor": "#E5ECF6",
            "gridcolor": "white",
            "gridwidth": 2,
            "linecolor": "white",
            "showbackground": true,
            "ticks": "",
            "zerolinecolor": "white"
           },
           "zaxis": {
            "backgroundcolor": "#E5ECF6",
            "gridcolor": "white",
            "gridwidth": 2,
            "linecolor": "white",
            "showbackground": true,
            "ticks": "",
            "zerolinecolor": "white"
           }
          },
          "shapedefaults": {
           "line": {
            "color": "#2a3f5f"
           }
          },
          "ternary": {
           "aaxis": {
            "gridcolor": "white",
            "linecolor": "white",
            "ticks": ""
           },
           "baxis": {
            "gridcolor": "white",
            "linecolor": "white",
            "ticks": ""
           },
           "bgcolor": "#E5ECF6",
           "caxis": {
            "gridcolor": "white",
            "linecolor": "white",
            "ticks": ""
           }
          },
          "title": {
           "x": 0.05
          },
          "xaxis": {
           "automargin": true,
           "gridcolor": "white",
           "linecolor": "white",
           "ticks": "",
           "title": {
            "standoff": 15
           },
           "zerolinecolor": "white",
           "zerolinewidth": 2
          },
          "yaxis": {
           "automargin": true,
           "gridcolor": "white",
           "linecolor": "white",
           "ticks": "",
           "title": {
            "standoff": 15
           },
           "zerolinecolor": "white",
           "zerolinewidth": 2
          }
         }
        },
        "title": {
         "font": {
          "color": "black",
          "family": "Times New Roman",
          "size": 22
         },
         "text": "Total ciudades/poblados en USA con nombres de ciudades de UK por Estado",
         "x": 0.45
        }
       }
      }
     },
     "metadata": {},
     "output_type": "display_data"
    }
   ],
   "source": [
    "import plotly.express as px\n",
    "fig = px.choropleth(state_summary,\n",
    "                    locations='State', \n",
    "                    locationmode=\"USA-states\", \n",
    "                    scope=\"usa\",\n",
    "                    color='Total_Cities_with_UK_city_name',\n",
    "                    color_continuous_scale=px.colors.diverging.RdGy_r,\n",
    "                    )\n",
    "fig.update_layout(\n",
    "      title_text = 'Total ciudades/poblados en USA con nombres de ciudades de UK por Estado',\n",
    "      title_font_family=\"Times New Roman\",\n",
    "      title_font_size = 22,\n",
    "      title_font_color=\"black\", \n",
    "      title_x=0.45,\n",
    "      coloraxis_colorbar=dict(\n",
    "            title=\"Total ciudades/poblados\",yanchor=\"top\",y=1,\n",
    "    ticks=\"outside\",),\n",
    ")\n",
    "fig.show()"
   ]
  }
 ],
 "metadata": {
  "kernelspec": {
   "display_name": "base",
   "language": "python",
   "name": "python3"
  },
  "language_info": {
   "codemirror_mode": {
    "name": "ipython",
    "version": 3
   },
   "file_extension": ".py",
   "mimetype": "text/x-python",
   "name": "python",
   "nbconvert_exporter": "python",
   "pygments_lexer": "ipython3",
   "version": "3.11.3"
  },
  "orig_nbformat": 4,
  "vscode": {
   "interpreter": {
    "hash": "8e7af5626c7e654314ce176c299bd4d61dd6a36e86a9674195997ac339225326"
   }
  }
 },
 "nbformat": 4,
 "nbformat_minor": 2
}
